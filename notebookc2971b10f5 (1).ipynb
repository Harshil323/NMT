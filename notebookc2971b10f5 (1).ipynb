{
  "nbformat": 4,
  "nbformat_minor": 0,
  "metadata": {
    "kernelspec": {
      "language": "python",
      "display_name": "Python 3",
      "name": "python3"
    },
    "language_info": {
      "name": "python",
      "version": "3.7.9",
      "mimetype": "text/x-python",
      "codemirror_mode": {
        "name": "ipython",
        "version": 3
      },
      "pygments_lexer": "ipython3",
      "nbconvert_exporter": "python",
      "file_extension": ".py"
    },
    "colab": {
      "name": "notebookc2971b10f5.ipynb",
      "provenance": [],
      "toc_visible": true,
      "machine_shape": "hm"
    },
    "accelerator": "GPU"
  },
  "cells": [
    {
      "cell_type": "markdown",
      "metadata": {
        "id": "IuL1B_-Zdex8"
      },
      "source": [
        "Neural Machine Translation is a way to convert one language to another language. Initially we were focused on the tranfering the Hindi to English but after that we switched to the French to English.\n",
        "The dataset we sregoing to use is the french and english dataset which has French sentence with the English output or prediction sentences."
      ]
    },
    {
      "cell_type": "code",
      "metadata": {
        "colab": {
          "base_uri": "https://localhost:8080/"
        },
        "id": "RjsDfKOCeD_6",
        "outputId": "e0990e3a-48e4-42a3-ebd4-3f641e8fa898"
      },
      "source": [
        "from google.colab import drive\n",
        "drive.mount('/content/drive')"
      ],
      "execution_count": 14,
      "outputs": [
        {
          "output_type": "stream",
          "text": [
            "Drive already mounted at /content/drive; to attempt to forcibly remount, call drive.mount(\"/content/drive\", force_remount=True).\n"
          ],
          "name": "stdout"
        }
      ]
    },
    {
      "cell_type": "code",
      "metadata": {
        "_uuid": "8f2839f25d086af736a60e9eeb907d3b93b6e0e5",
        "_cell_guid": "b1076dfc-b9ad-4769-8c92-a6c4dae69d19",
        "trusted": true,
        "id": "4yzSGNeadeyC"
      },
      "source": [
        "#First we are going to add the libraries which will be required for this project\n",
        "from __future__ import print_function, division\n",
        "from builtins import range, input\n",
        "import pickle\n",
        "import os, sys\n",
        "import string\n",
        "import pandas as pd\n",
        "import re\n",
        "import numpy as np\n",
        "import matplotlib.pyplot as plt\n",
        "import matplotlib.pyplot as plt\n",
        "from keras.models import Model\n",
        "from keras.layers import Input, LSTM, GRU, Dense, Embedding, \\\n",
        "  Bidirectional, RepeatVector, Concatenate, Activation, Dot, Lambda\n",
        "from keras.preprocessing.text import Tokenizer\n",
        "from keras.preprocessing.sequence import pad_sequences\n",
        "import keras.backend as K\n",
        "from keras.callbacks import ModelCheckpoint\n",
        "from keras.models import load_model\n",
        "from keras.optimizers import Adam\n",
        "from keras import optimizers\n",
        "from sklearn.model_selection import train_test_split\n",
        " \n",
        "%matplotlib inline\n",
        "pd.set_option('display.max_colwidth', 200)"
      ],
      "execution_count": 15,
      "outputs": []
    },
    {
      "cell_type": "code",
      "metadata": {
        "trusted": true,
        "id": "Ql1Lk45YdeyE"
      },
      "source": [
        "# Model configuration\n",
        "BATCH_SIZE = 512\n",
        "EPOCHS = 300\n",
        "LATENT_DIM = 256\n",
        "LATENT_DIM_DECODER = 256 \n",
        "EMBEDDING_DIM = 200\n"
      ],
      "execution_count": 50,
      "outputs": []
    },
    {
      "cell_type": "code",
      "metadata": {
        "trusted": true,
        "id": "QJxtEswNdeyE"
      },
      "source": [
        "#Load train and test datasets\n",
        "with open('/content/drive/MyDrive/Neural Machine Traslation/Part 2/French_test.pkl', 'rb') as handle:\n",
        "    fr_test = pickle.load(handle)\n",
        "with open('/content/drive/MyDrive/Neural Machine Traslation/Part 2/English_test.pkl', 'rb') as handle:\n",
        "    en_test = pickle.load(handle)\n",
        "with open('/content/drive/MyDrive/Neural Machine Traslation/Part 2/French_train.pkl', 'rb') as handle:\n",
        "    fr_train = pickle.load(handle)[1:14000]\n",
        "with open('/content/drive/MyDrive/Neural Machine Traslation/Part 2/English_train.pkl', 'rb') as handle:\n",
        "    en_train = pickle.load(handle)[1:14000]"
      ],
      "execution_count": 17,
      "outputs": []
    },
    {
      "cell_type": "code",
      "metadata": {
        "colab": {
          "base_uri": "https://localhost:8080/"
        },
        "id": "tN6eejMPIPab",
        "outputId": "64e97547-7faf-4daf-c2b1-b14e1927581b"
      },
      "source": [
        "\n",
        "print(len(en_train))"
      ],
      "execution_count": 18,
      "outputs": [
        {
          "output_type": "stream",
          "text": [
            "13999\n"
          ],
          "name": "stdout"
        }
      ]
    },
    {
      "cell_type": "code",
      "metadata": {
        "trusted": true,
        "colab": {
          "base_uri": "https://localhost:8080/"
        },
        "id": "_S8EqeIVdeyE",
        "outputId": "34291c13-51b5-4a23-8776-dc1ab9fe8f02"
      },
      "source": [
        "NUM_SAMPLES=len(fr_test)+len(fr_train)\n",
        "print(NUM_SAMPLES)"
      ],
      "execution_count": 19,
      "outputs": [
        {
          "output_type": "stream",
          "text": [
            "27999\n"
          ],
          "name": "stdout"
        }
      ]
    },
    {
      "cell_type": "code",
      "metadata": {
        "trusted": true,
        "colab": {
          "base_uri": "https://localhost:8080/"
        },
        "id": "E2WArgDSdeyF",
        "outputId": "649e4e22-66e5-45a5-eaa8-c6d56668319c"
      },
      "source": [
        "input_texts = [] \n",
        "target_texts = [] \n",
        "target_texts_inputs = []\n",
        "\n",
        "fr_train=[line.lower() for line in fr_train]\n",
        "en_train=[line.lower() for line in en_train]\n",
        "NUM_SAMPLES=len(fr_train)\n",
        "print(\"Sample train size:\",NUM_SAMPLES)"
      ],
      "execution_count": 20,
      "outputs": [
        {
          "output_type": "stream",
          "text": [
            "Sample train size: 13999\n"
          ],
          "name": "stdout"
        }
      ]
    },
    {
      "cell_type": "code",
      "metadata": {
        "trusted": true,
        "colab": {
          "base_uri": "https://localhost:8080/"
        },
        "id": "pIKQajYsdeyG",
        "outputId": "a9056ee0-e811-4b71-dfd6-4e63c7732995"
      },
      "source": [
        "print(len(input_texts))"
      ],
      "execution_count": 21,
      "outputs": [
        {
          "output_type": "stream",
          "text": [
            "0\n"
          ],
          "name": "stdout"
        }
      ]
    },
    {
      "cell_type": "code",
      "metadata": {
        "trusted": true,
        "id": "qxtZ8gjOdeyG"
      },
      "source": [
        "#Pre processing of the Datasets \n",
        "'''\n",
        "1. Add start and end tokens to the sentences.\n",
        "2.Tokenize the word of the sentences.\n",
        "3. Add padding to the sentences to make the all the sentences of the same length.\n",
        "'''\n",
        "\n",
        "#1. Add the start and end tokens to the start and end of the tokens.\n",
        "for lines in en_train:\n",
        "    target_texts_inputs.append('<sos>'+\" \"+ lines)\n",
        "    \n",
        "for lines in en_train:\n",
        "    target_texts.append(lines+ \" \" +'<eos>')\n",
        "    \n",
        "for lines in fr_train:\n",
        "    input_texts.append(lines)"
      ],
      "execution_count": 22,
      "outputs": []
    },
    {
      "cell_type": "markdown",
      "metadata": {
        "id": "aVqgR4oQdeyG"
      },
      "source": [
        "**Here we have preprocessed the traing data**"
      ]
    },
    {
      "cell_type": "code",
      "metadata": {
        "trusted": true,
        "colab": {
          "base_uri": "https://localhost:8080/"
        },
        "id": "yyTyT3NxdeyH",
        "outputId": "8d24f24a-25d1-4c5c-f758-c9b0bb2ff253"
      },
      "source": [
        "#2. Tokenize the french and english sentences.\n",
        "tokenizer_inputs = Tokenizer()\n",
        "tokenizer_inputs.fit_on_texts(input_texts)\n",
        "input_sequences = tokenizer_inputs.texts_to_sequences(input_texts)\n",
        "\n",
        "#word to index mapping for the french language\n",
        "word2idx_inputs = tokenizer_inputs.word_index\n",
        "\n",
        "# Max length of French sentence\n",
        "max_len_input = max(len(s) for s in input_sequences)\n",
        "#print(max_len_input)\n",
        "#tokenize English sentences\n",
        "tokenizer_outputs = Tokenizer(filters='')\n",
        "tokenizer_outputs.fit_on_texts(target_texts + target_texts_inputs) \n",
        "target_sequences = tokenizer_outputs.texts_to_sequences(target_texts)\n",
        "target_sequences_inputs = tokenizer_outputs.texts_to_sequences(target_texts_inputs)\n",
        "\n",
        "# Word to index mapping for English\n",
        "word2idx_outputs = tokenizer_outputs.word_index\n",
        "\n",
        "# store number of output words for later\n",
        "num_words_output = len(word2idx_outputs) + 1\n",
        "\n",
        "# Max length of English sentence\n",
        "max_len_target = max(len(s) for s in target_sequences)\n",
        "\n",
        "# pad the sequences\n",
        "encoder_inputs = pad_sequences(input_sequences, maxlen=max_len_input)\n",
        "decoder_inputs = pad_sequences(target_sequences_inputs, maxlen=max_len_target, padding='post')\n",
        "decoder_targets = pad_sequences(target_sequences, maxlen=max_len_target, padding='post')\n",
        "\n",
        "print('Data Preprocessed')\n",
        "print(\"Max train English sentence length:\", max_len_target)\n",
        "print(\"Max train French sentence length:\", max_len_input)\n",
        "print(\"Unique French Vocabulary count:\",len(word2idx_inputs))\n",
        "print(\"Unique English Vocabulary count:\",len(word2idx_outputs))"
      ],
      "execution_count": 23,
      "outputs": [
        {
          "output_type": "stream",
          "text": [
            "Data Preprocessed\n",
            "Max train English sentence length: 8\n",
            "Max train French sentence length: 9\n",
            "Unique French Vocabulary count: 7157\n",
            "Unique English Vocabulary count: 4080\n"
          ],
          "name": "stdout"
        }
      ]
    },
    {
      "cell_type": "markdown",
      "metadata": {
        "id": "b5nyVxjcdeyH"
      },
      "source": [
        "**##Now we are going to pre process the test dataset##**"
      ]
    },
    {
      "cell_type": "code",
      "metadata": {
        "trusted": true,
        "colab": {
          "base_uri": "https://localhost:8080/"
        },
        "id": "R6bASbPNdeyI",
        "outputId": "18c97a9c-8cfd-4978-b3a8-fa70abf2b36c"
      },
      "source": [
        "##Test Preparation\n",
        "input_texts_test = [] # French sentences\n",
        "target_texts_test = [] # English sentences\n",
        "target_texts_inputs_test = []# english sentences offset by 1 for teacher forcing\n",
        "\n",
        "#Converting to lowercase\n",
        "fr_test=[line.lower() for line in fr_test]\n",
        "en_test=[line.lower() for line in en_test]\n",
        "\n",
        "#Adding <sos> and <eos> tokens\n",
        "\n",
        "for lines in en_test:\n",
        "    target_texts_inputs_test.append('<sos>'+\" \"+ lines)\n",
        "    \n",
        "for lines in en_test:\n",
        "    target_texts_test.append(lines+ \" \" +'<eos>')\n",
        "    \n",
        "for lines in fr_test:\n",
        "    input_texts_test.append(lines)\n",
        "    \n",
        "# tokenize French sentences\n",
        "\n",
        "input_sequences_test = tokenizer_inputs.texts_to_sequences(input_texts_test)\n",
        "\n",
        "\n",
        "target_sequences_test = tokenizer_outputs.texts_to_sequences(target_texts_test)\n",
        "target_sequences_inputs_test = tokenizer_outputs.texts_to_sequences(target_texts_inputs_test)\n",
        "\n",
        "# pad the sequences\n",
        "encoder_inputs_test = pad_sequences(input_sequences_test, maxlen=max_len_input)\n",
        "decoder_inputs_test = pad_sequences(target_sequences_inputs_test, maxlen=max_len_target, padding='post')\n",
        "decoder_targets_test = pad_sequences(target_sequences_test, maxlen=max_len_target, padding='post')\n",
        "\n",
        "print(\"Max test English sentence length:\", decoder_inputs_test.shape[1])\n",
        "print(\"Max test French sentence length:\", encoder_inputs_test.shape[1])"
      ],
      "execution_count": 24,
      "outputs": [
        {
          "output_type": "stream",
          "text": [
            "Max test English sentence length: 8\n",
            "Max test French sentence length: 9\n"
          ],
          "name": "stdout"
        }
      ]
    },
    {
      "cell_type": "code",
      "metadata": {
        "trusted": true,
        "colab": {
          "base_uri": "https://localhost:8080/"
        },
        "id": "XqDydRqWdeyI",
        "outputId": "32809228-21a7-4c90-d5ba-45e4796b4a83"
      },
      "source": [
        "#Load pretrained word vectors from Glove\n",
        "print('Loading word vectors...')\n",
        "word2vec = {}\n",
        "with open(os.path.join('/content/drive/MyDrive/Neural Machine Traslation/Part 2/glove.6B.200d.txt'), encoding=\"utf8\") as f:\n",
        "# is just a space-separated text file in the format:\n",
        "# word vec[0] vec[1] vec[2] ...\n",
        "    for line in f:\n",
        "        values = line.split()\n",
        "        word = values[0]\n",
        "        vec = np.asarray(values[1:], dtype='float32')\n",
        "        word2vec[word] = vec\n",
        "print('Found %s word vectors.' % len(word2vec))"
      ],
      "execution_count": 25,
      "outputs": [
        {
          "output_type": "stream",
          "text": [
            "Loading word vectors...\n",
            "Found 400000 word vectors.\n"
          ],
          "name": "stdout"
        }
      ]
    },
    {
      "cell_type": "code",
      "metadata": {
        "trusted": true,
        "colab": {
          "base_uri": "https://localhost:8080/"
        },
        "id": "U4IM07XAdeyJ",
        "outputId": "c14dba90-2595-44e1-dae6-e24628c809bc"
      },
      "source": [
        "# prepare embedding matrix\n",
        "print('Filling pre-trained embeddings...')\n",
        "num_words=len(word2idx_inputs) + 1\n",
        "embedding_matrix = np.zeros((num_words, EMBEDDING_DIM))\n",
        "for word, i in word2idx_inputs.items():\n",
        "    if i < num_words:\n",
        "        embedding_vector = word2vec.get(word)\n",
        "    if embedding_vector is not None:\n",
        "      # words not found in embedding index will be all zeros.\n",
        "        embedding_matrix[i] = embedding_vector"
      ],
      "execution_count": 26,
      "outputs": [
        {
          "output_type": "stream",
          "text": [
            "Filling pre-trained embeddings...\n"
          ],
          "name": "stdout"
        }
      ]
    },
    {
      "cell_type": "markdown",
      "metadata": {
        "id": "87t41W6JdeyJ"
      },
      "source": [
        "# # Now we are creating model for the machine translartion using LSTM"
      ]
    },
    {
      "cell_type": "code",
      "metadata": {
        "trusted": true,
        "id": "jQiFvpRAdeyJ"
      },
      "source": [
        "#First define softmax activation function\n",
        "def softmax_over_time(x):\n",
        "    assert(K.ndim(x) > 2)\n",
        "    e = K.exp(x - K.max(x, axis=1, keepdims=True))\n",
        "    s = K.sum(e, axis=1, keepdims=True)\n",
        "    return e / s"
      ],
      "execution_count": 27,
      "outputs": []
    },
    {
      "cell_type": "code",
      "metadata": {
        "trusted": true,
        "id": "E1VFJ0zZdeyJ"
      },
      "source": [
        "#Define embedding layers\n",
        "embedding_layer = Embedding(\n",
        "  num_words,\n",
        "  EMBEDDING_DIM,\n",
        "  weights=[embedding_matrix],\n",
        "  input_length=max_len_input,\n",
        "  # trainable=True\n",
        ")"
      ],
      "execution_count": 28,
      "outputs": []
    },
    {
      "cell_type": "code",
      "metadata": {
        "trusted": true,
        "id": "Eh30yFzedeyK"
      },
      "source": [
        "#One hot encoding\n",
        "\n",
        "decoder_targets_one_hot = np.zeros(\n",
        "  (\n",
        "    len(input_texts),\n",
        "    max_len_target,\n",
        "    num_words_output\n",
        "  ),\n",
        "  dtype='float32'\n",
        ")\n",
        "\n",
        "# assign the values\n",
        "for i, d in enumerate(decoder_targets):\n",
        "    for t, word in enumerate(d):\n",
        "        decoder_targets_one_hot[i, t, word] = 1"
      ],
      "execution_count": 29,
      "outputs": []
    },
    {
      "cell_type": "code",
      "metadata": {
        "trusted": true,
        "id": "JvSn71h3deyK"
      },
      "source": [
        "#Define Encoding layer\n",
        "#encoder\n",
        "encoder_inputs_placeholder = Input(shape=(max_len_input,))\n",
        "x = embedding_layer(encoder_inputs_placeholder)\n",
        "encoder = Bidirectional(LSTM(\n",
        "  LATENT_DIM,\n",
        "  return_sequences=True, dropout=0.2\n",
        "))\n",
        "encoder_outputs = encoder(x)"
      ],
      "execution_count": 30,
      "outputs": []
    },
    {
      "cell_type": "code",
      "metadata": {
        "trusted": true,
        "id": "HiJu6So3deyK"
      },
      "source": [
        "#Define Decoding layer\n",
        "#Decoder\n",
        "decoder_inputs_placeholder = Input(shape=(max_len_target,))\n",
        "decoder_embedding = Embedding(num_words_output, EMBEDDING_DIM)\n",
        "decoder_inputs_x = decoder_embedding(decoder_inputs_placeholder)"
      ],
      "execution_count": 31,
      "outputs": []
    },
    {
      "cell_type": "code",
      "metadata": {
        "trusted": true,
        "id": "3z6E3brcdeyK"
      },
      "source": [
        "#Attention layer\n",
        "#Attention\n",
        "attn_repeat_layer = RepeatVector(max_len_input)\n",
        "attn_concat_layer = Concatenate(axis=-1)\n",
        "attn_dense1 = Dense(10, activation='tanh')\n",
        "attn_dense2 = Dense(1, activation=softmax_over_time)\n",
        "\n",
        "attn_dot = Dot(axes=1) "
      ],
      "execution_count": 32,
      "outputs": []
    },
    {
      "cell_type": "code",
      "metadata": {
        "trusted": true,
        "id": "Hoa7kOQCdeyK"
      },
      "source": [
        "def one_step_attention(h, st_1):\n",
        "\n",
        "    st_1 = attn_repeat_layer(st_1)\n",
        "\n",
        "    x = attn_concat_layer([h, st_1])\n",
        "\n",
        "    # Neural net first layer\n",
        "    x = attn_dense1(x)\n",
        "\n",
        "    # Neural net second layer with special softmax over time\n",
        "    alphas = attn_dense2(x)\n",
        "\n",
        "    context = attn_dot([alphas, h])\n",
        "\n",
        "    return context"
      ],
      "execution_count": 33,
      "outputs": []
    },
    {
      "cell_type": "code",
      "metadata": {
        "trusted": true,
        "id": "CNdW25nZdeyL"
      },
      "source": [
        "# define the rest of the decoder (after attention)\n",
        "decoder_lstm = LSTM(LATENT_DIM_DECODER, return_state=True)\n",
        "decoder_dense = Dense(num_words_output, activation='softmax')\n",
        "\n",
        "initial_s = Input(shape=(LATENT_DIM_DECODER,), name='s0')\n",
        "initial_c = Input(shape=(LATENT_DIM_DECODER,), name='c0')\n",
        "context_last_word_concat_layer = Concatenate(axis=2)"
      ],
      "execution_count": 34,
      "outputs": []
    },
    {
      "cell_type": "code",
      "metadata": {
        "trusted": true,
        "id": "ZcFHpF2bdeyL"
      },
      "source": [
        "# s, c will be re-assigned in each iteration of the loop\n",
        "s = initial_s\n",
        "c = initial_c\n",
        "\n",
        "# collect outputs in a list at first\n",
        "outputs = []\n",
        "for t in range(max_len_target): # Ty times\n",
        "    # get the context using attention\n",
        "    context = one_step_attention(encoder_outputs, s)\n",
        "\n",
        "    # we need a different layer for each time step\n",
        "    selector = Lambda(lambda x: x[:, t:t+1])\n",
        "    xt = selector(decoder_inputs_x)\n",
        "\n",
        "    # combine \n",
        "    decoder_lstm_input = context_last_word_concat_layer([context, xt])\n",
        "\n",
        "    # pass the combined [context, last word] into the LSTM\n",
        "    # along with [s, c]\n",
        "    # get the new [s, c] and output\n",
        "    o, s, c = decoder_lstm(decoder_lstm_input, initial_state=[s, c])\n",
        "\n",
        "    # final dense layer to get next word prediction\n",
        "    decoder_outputs = decoder_dense(o)\n",
        "    outputs.append(decoder_outputs)"
      ],
      "execution_count": 35,
      "outputs": []
    },
    {
      "cell_type": "code",
      "metadata": {
        "trusted": true,
        "id": "OliSFc0OdeyL"
      },
      "source": [
        "def stack_and_transpose(x):\n",
        "    # x is a list of length T, each element is a batch_size x output_vocab_size tensor\n",
        "    x = K.stack(x) # is now T x batch_size x output_vocab_size tensor\n",
        "    x = K.permute_dimensions(x, pattern=(1, 0, 2)) # is now batch_size x T x output_vocab_size\n",
        "    return x\n",
        "\n",
        "# make it a layerx``\n",
        "stacker = Lambda(stack_and_transpose)\n",
        "outputs = stacker(outputs)\n"
      ],
      "execution_count": 36,
      "outputs": []
    },
    {
      "cell_type": "code",
      "metadata": {
        "trusted": true,
        "id": "2i_4-U3odeyM"
      },
      "source": [
        "# create the model\n",
        "model = Model(\n",
        "  inputs=[\n",
        "    encoder_inputs_placeholder,\n",
        "    decoder_inputs_placeholder,\n",
        "    initial_s, \n",
        "    initial_c,\n",
        "  ],\n",
        "  outputs=outputs\n",
        ")\n"
      ],
      "execution_count": 37,
      "outputs": []
    },
    {
      "cell_type": "code",
      "metadata": {
        "id": "8c0b_RhBL-p6",
        "colab": {
          "base_uri": "https://localhost:8080/"
        },
        "outputId": "e8b73759-59ee-45c9-d4c1-e027da846329"
      },
      "source": [
        "print(model.summary())"
      ],
      "execution_count": 38,
      "outputs": [
        {
          "output_type": "stream",
          "text": [
            "Model: \"model\"\n",
            "__________________________________________________________________________________________________\n",
            "Layer (type)                    Output Shape         Param #     Connected to                     \n",
            "==================================================================================================\n",
            "input_1 (InputLayer)            [(None, 9)]          0                                            \n",
            "__________________________________________________________________________________________________\n",
            "embedding (Embedding)           (None, 9, 200)       1431600     input_1[0][0]                    \n",
            "__________________________________________________________________________________________________\n",
            "s0 (InputLayer)                 [(None, 256)]        0                                            \n",
            "__________________________________________________________________________________________________\n",
            "bidirectional (Bidirectional)   (None, 9, 512)       935936      embedding[0][0]                  \n",
            "__________________________________________________________________________________________________\n",
            "repeat_vector (RepeatVector)    (None, 9, 256)       0           s0[0][0]                         \n",
            "                                                                 lstm_1[0][1]                     \n",
            "                                                                 lstm_1[1][1]                     \n",
            "                                                                 lstm_1[2][1]                     \n",
            "                                                                 lstm_1[3][1]                     \n",
            "                                                                 lstm_1[4][1]                     \n",
            "                                                                 lstm_1[5][1]                     \n",
            "                                                                 lstm_1[6][1]                     \n",
            "__________________________________________________________________________________________________\n",
            "concatenate (Concatenate)       (None, 9, 768)       0           bidirectional[0][0]              \n",
            "                                                                 repeat_vector[0][0]              \n",
            "                                                                 bidirectional[0][0]              \n",
            "                                                                 repeat_vector[1][0]              \n",
            "                                                                 bidirectional[0][0]              \n",
            "                                                                 repeat_vector[2][0]              \n",
            "                                                                 bidirectional[0][0]              \n",
            "                                                                 repeat_vector[3][0]              \n",
            "                                                                 bidirectional[0][0]              \n",
            "                                                                 repeat_vector[4][0]              \n",
            "                                                                 bidirectional[0][0]              \n",
            "                                                                 repeat_vector[5][0]              \n",
            "                                                                 bidirectional[0][0]              \n",
            "                                                                 repeat_vector[6][0]              \n",
            "                                                                 bidirectional[0][0]              \n",
            "                                                                 repeat_vector[7][0]              \n",
            "__________________________________________________________________________________________________\n",
            "dense (Dense)                   (None, 9, 10)        7690        concatenate[0][0]                \n",
            "                                                                 concatenate[1][0]                \n",
            "                                                                 concatenate[2][0]                \n",
            "                                                                 concatenate[3][0]                \n",
            "                                                                 concatenate[4][0]                \n",
            "                                                                 concatenate[5][0]                \n",
            "                                                                 concatenate[6][0]                \n",
            "                                                                 concatenate[7][0]                \n",
            "__________________________________________________________________________________________________\n",
            "input_2 (InputLayer)            [(None, 8)]          0                                            \n",
            "__________________________________________________________________________________________________\n",
            "dense_1 (Dense)                 (None, 9, 1)         11          dense[0][0]                      \n",
            "                                                                 dense[1][0]                      \n",
            "                                                                 dense[2][0]                      \n",
            "                                                                 dense[3][0]                      \n",
            "                                                                 dense[4][0]                      \n",
            "                                                                 dense[5][0]                      \n",
            "                                                                 dense[6][0]                      \n",
            "                                                                 dense[7][0]                      \n",
            "__________________________________________________________________________________________________\n",
            "embedding_1 (Embedding)         (None, 8, 200)       816200      input_2[0][0]                    \n",
            "__________________________________________________________________________________________________\n",
            "dot (Dot)                       (None, 1, 512)       0           dense_1[0][0]                    \n",
            "                                                                 bidirectional[0][0]              \n",
            "                                                                 dense_1[1][0]                    \n",
            "                                                                 bidirectional[0][0]              \n",
            "                                                                 dense_1[2][0]                    \n",
            "                                                                 bidirectional[0][0]              \n",
            "                                                                 dense_1[3][0]                    \n",
            "                                                                 bidirectional[0][0]              \n",
            "                                                                 dense_1[4][0]                    \n",
            "                                                                 bidirectional[0][0]              \n",
            "                                                                 dense_1[5][0]                    \n",
            "                                                                 bidirectional[0][0]              \n",
            "                                                                 dense_1[6][0]                    \n",
            "                                                                 bidirectional[0][0]              \n",
            "                                                                 dense_1[7][0]                    \n",
            "                                                                 bidirectional[0][0]              \n",
            "__________________________________________________________________________________________________\n",
            "lambda (Lambda)                 (None, 1, 200)       0           embedding_1[0][0]                \n",
            "__________________________________________________________________________________________________\n",
            "concatenate_1 (Concatenate)     (None, 1, 712)       0           dot[0][0]                        \n",
            "                                                                 lambda[0][0]                     \n",
            "                                                                 dot[1][0]                        \n",
            "                                                                 lambda_1[0][0]                   \n",
            "                                                                 dot[2][0]                        \n",
            "                                                                 lambda_2[0][0]                   \n",
            "                                                                 dot[3][0]                        \n",
            "                                                                 lambda_3[0][0]                   \n",
            "                                                                 dot[4][0]                        \n",
            "                                                                 lambda_4[0][0]                   \n",
            "                                                                 dot[5][0]                        \n",
            "                                                                 lambda_5[0][0]                   \n",
            "                                                                 dot[6][0]                        \n",
            "                                                                 lambda_6[0][0]                   \n",
            "                                                                 dot[7][0]                        \n",
            "                                                                 lambda_7[0][0]                   \n",
            "__________________________________________________________________________________________________\n",
            "c0 (InputLayer)                 [(None, 256)]        0                                            \n",
            "__________________________________________________________________________________________________\n",
            "lstm_1 (LSTM)                   [(None, 256), (None, 992256      concatenate_1[0][0]              \n",
            "                                                                 s0[0][0]                         \n",
            "                                                                 c0[0][0]                         \n",
            "                                                                 concatenate_1[1][0]              \n",
            "                                                                 lstm_1[0][1]                     \n",
            "                                                                 lstm_1[0][2]                     \n",
            "                                                                 concatenate_1[2][0]              \n",
            "                                                                 lstm_1[1][1]                     \n",
            "                                                                 lstm_1[1][2]                     \n",
            "                                                                 concatenate_1[3][0]              \n",
            "                                                                 lstm_1[2][1]                     \n",
            "                                                                 lstm_1[2][2]                     \n",
            "                                                                 concatenate_1[4][0]              \n",
            "                                                                 lstm_1[3][1]                     \n",
            "                                                                 lstm_1[3][2]                     \n",
            "                                                                 concatenate_1[5][0]              \n",
            "                                                                 lstm_1[4][1]                     \n",
            "                                                                 lstm_1[4][2]                     \n",
            "                                                                 concatenate_1[6][0]              \n",
            "                                                                 lstm_1[5][1]                     \n",
            "                                                                 lstm_1[5][2]                     \n",
            "                                                                 concatenate_1[7][0]              \n",
            "                                                                 lstm_1[6][1]                     \n",
            "                                                                 lstm_1[6][2]                     \n",
            "__________________________________________________________________________________________________\n",
            "lambda_1 (Lambda)               (None, 1, 200)       0           embedding_1[0][0]                \n",
            "__________________________________________________________________________________________________\n",
            "lambda_2 (Lambda)               (None, 1, 200)       0           embedding_1[0][0]                \n",
            "__________________________________________________________________________________________________\n",
            "lambda_3 (Lambda)               (None, 1, 200)       0           embedding_1[0][0]                \n",
            "__________________________________________________________________________________________________\n",
            "lambda_4 (Lambda)               (None, 1, 200)       0           embedding_1[0][0]                \n",
            "__________________________________________________________________________________________________\n",
            "lambda_5 (Lambda)               (None, 1, 200)       0           embedding_1[0][0]                \n",
            "__________________________________________________________________________________________________\n",
            "lambda_6 (Lambda)               (None, 1, 200)       0           embedding_1[0][0]                \n",
            "__________________________________________________________________________________________________\n",
            "lambda_7 (Lambda)               (None, 1, 200)       0           embedding_1[0][0]                \n",
            "__________________________________________________________________________________________________\n",
            "dense_2 (Dense)                 (None, 4081)         1048817     lstm_1[0][0]                     \n",
            "                                                                 lstm_1[1][0]                     \n",
            "                                                                 lstm_1[2][0]                     \n",
            "                                                                 lstm_1[3][0]                     \n",
            "                                                                 lstm_1[4][0]                     \n",
            "                                                                 lstm_1[5][0]                     \n",
            "                                                                 lstm_1[6][0]                     \n",
            "                                                                 lstm_1[7][0]                     \n",
            "__________________________________________________________________________________________________\n",
            "lambda_8 (Lambda)               (None, 8, 4081)      0           dense_2[0][0]                    \n",
            "                                                                 dense_2[1][0]                    \n",
            "                                                                 dense_2[2][0]                    \n",
            "                                                                 dense_2[3][0]                    \n",
            "                                                                 dense_2[4][0]                    \n",
            "                                                                 dense_2[5][0]                    \n",
            "                                                                 dense_2[6][0]                    \n",
            "                                                                 dense_2[7][0]                    \n",
            "==================================================================================================\n",
            "Total params: 5,232,510\n",
            "Trainable params: 5,232,510\n",
            "Non-trainable params: 0\n",
            "__________________________________________________________________________________________________\n",
            "None\n"
          ],
          "name": "stdout"
        }
      ]
    },
    {
      "cell_type": "code",
      "metadata": {
        "trusted": true,
        "id": "v-YrWoWodeyM"
      },
      "source": [
        "learning_rate=0.001\n",
        "# checkpoint\n",
        "filepath=\"french_eng_finalmodel\"\n",
        "checkpoint = ModelCheckpoint(filepath, monitor='val_accuracy', verbose=1, save_best_only=True, mode='max')\n",
        "callbacks_list = [checkpoint]\n",
        "\n",
        "# compile the model\n",
        "\n",
        "model.compile(optimizer=optimizers.Adam(learning_rate) ,loss='categorical_crossentropy', metrics=['accuracy'])"
      ],
      "execution_count": 39,
      "outputs": []
    },
    {
      "cell_type": "code",
      "metadata": {
        "trusted": true,
        "colab": {
          "base_uri": "https://localhost:8080/"
        },
        "id": "x1t1vUSDdeyM",
        "outputId": "8c9c76d8-383e-44c3-fd61-ce816ddbad67"
      },
      "source": [
        "# train the model\n",
        "z = np.zeros((encoder_inputs.shape[0], LATENT_DIM_DECODER)) # initial [s, c]\n",
        "r = model.fit(\n",
        "  [encoder_inputs, decoder_inputs, z, z], decoder_targets_one_hot,\n",
        "  batch_size=BATCH_SIZE,\n",
        "  epochs=EPOCHS,\n",
        "  validation_split=0.1,\n",
        ")"
      ],
      "execution_count": 51,
      "outputs": [
        {
          "output_type": "stream",
          "text": [
            "Epoch 1/300\n",
            "25/25 [==============================] - 2s 91ms/step - loss: 2.1788 - accuracy: 0.6112 - val_loss: 3.0144 - val_accuracy: 0.5181\n",
            "Epoch 2/300\n",
            "25/25 [==============================] - 2s 84ms/step - loss: 2.1440 - accuracy: 0.6133 - val_loss: 2.9663 - val_accuracy: 0.5268\n",
            "Epoch 3/300\n",
            "25/25 [==============================] - 2s 85ms/step - loss: 2.0911 - accuracy: 0.6224 - val_loss: 2.9646 - val_accuracy: 0.5305\n",
            "Epoch 4/300\n",
            "25/25 [==============================] - 2s 85ms/step - loss: 2.0605 - accuracy: 0.6267 - val_loss: 2.9543 - val_accuracy: 0.5332\n",
            "Epoch 5/300\n",
            "25/25 [==============================] - 2s 84ms/step - loss: 2.0417 - accuracy: 0.6273 - val_loss: 2.9506 - val_accuracy: 0.5346\n",
            "Epoch 6/300\n",
            "25/25 [==============================] - 2s 85ms/step - loss: 2.0150 - accuracy: 0.6313 - val_loss: 2.9531 - val_accuracy: 0.5281\n",
            "Epoch 7/300\n",
            "25/25 [==============================] - 2s 85ms/step - loss: 1.9927 - accuracy: 0.6342 - val_loss: 2.9349 - val_accuracy: 0.5315\n",
            "Epoch 8/300\n",
            "25/25 [==============================] - 2s 84ms/step - loss: 1.9652 - accuracy: 0.6383 - val_loss: 2.9456 - val_accuracy: 0.5386\n",
            "Epoch 9/300\n",
            "25/25 [==============================] - 2s 84ms/step - loss: 1.9600 - accuracy: 0.6364 - val_loss: 2.9286 - val_accuracy: 0.5388\n",
            "Epoch 10/300\n",
            "25/25 [==============================] - 2s 85ms/step - loss: 1.9261 - accuracy: 0.6419 - val_loss: 2.9050 - val_accuracy: 0.5371\n",
            "Epoch 11/300\n",
            "25/25 [==============================] - 2s 85ms/step - loss: 1.9000 - accuracy: 0.6451 - val_loss: 2.9113 - val_accuracy: 0.5353\n",
            "Epoch 12/300\n",
            "25/25 [==============================] - 2s 85ms/step - loss: 1.8790 - accuracy: 0.6478 - val_loss: 2.9078 - val_accuracy: 0.5408\n",
            "Epoch 13/300\n",
            "25/25 [==============================] - 2s 85ms/step - loss: 1.8560 - accuracy: 0.6516 - val_loss: 2.9075 - val_accuracy: 0.5365\n",
            "Epoch 14/300\n",
            "25/25 [==============================] - 2s 85ms/step - loss: 1.8371 - accuracy: 0.6533 - val_loss: 2.8942 - val_accuracy: 0.5441\n",
            "Epoch 15/300\n",
            "25/25 [==============================] - 2s 85ms/step - loss: 1.8214 - accuracy: 0.6548 - val_loss: 2.8844 - val_accuracy: 0.5425\n",
            "Epoch 16/300\n",
            "25/25 [==============================] - 2s 85ms/step - loss: 1.7983 - accuracy: 0.6576 - val_loss: 2.9132 - val_accuracy: 0.5462\n",
            "Epoch 17/300\n",
            "25/25 [==============================] - 2s 85ms/step - loss: 1.7830 - accuracy: 0.6601 - val_loss: 2.8836 - val_accuracy: 0.5465\n",
            "Epoch 18/300\n",
            "25/25 [==============================] - 2s 85ms/step - loss: 1.7602 - accuracy: 0.6627 - val_loss: 2.8791 - val_accuracy: 0.5406\n",
            "Epoch 19/300\n",
            "25/25 [==============================] - 2s 85ms/step - loss: 1.7355 - accuracy: 0.6665 - val_loss: 2.8694 - val_accuracy: 0.5469\n",
            "Epoch 20/300\n",
            "25/25 [==============================] - 2s 86ms/step - loss: 1.7212 - accuracy: 0.6677 - val_loss: 2.8692 - val_accuracy: 0.5401\n",
            "Epoch 21/300\n",
            "25/25 [==============================] - 2s 85ms/step - loss: 1.7025 - accuracy: 0.6713 - val_loss: 2.8607 - val_accuracy: 0.5494\n",
            "Epoch 22/300\n",
            "25/25 [==============================] - 2s 85ms/step - loss: 1.6885 - accuracy: 0.6713 - val_loss: 2.8571 - val_accuracy: 0.5473\n",
            "Epoch 23/300\n",
            "25/25 [==============================] - 2s 84ms/step - loss: 1.6641 - accuracy: 0.6749 - val_loss: 2.8543 - val_accuracy: 0.5420\n",
            "Epoch 24/300\n",
            "25/25 [==============================] - 2s 85ms/step - loss: 1.6595 - accuracy: 0.6738 - val_loss: 2.8436 - val_accuracy: 0.5503\n",
            "Epoch 25/300\n",
            "25/25 [==============================] - 2s 85ms/step - loss: 1.6287 - accuracy: 0.6801 - val_loss: 2.8398 - val_accuracy: 0.5541\n",
            "Epoch 26/300\n",
            "25/25 [==============================] - 2s 85ms/step - loss: 1.6089 - accuracy: 0.6823 - val_loss: 2.8332 - val_accuracy: 0.5532\n",
            "Epoch 27/300\n",
            "25/25 [==============================] - 2s 86ms/step - loss: 1.5879 - accuracy: 0.6855 - val_loss: 2.8192 - val_accuracy: 0.5527\n",
            "Epoch 28/300\n",
            "25/25 [==============================] - 2s 85ms/step - loss: 1.5686 - accuracy: 0.6884 - val_loss: 2.8371 - val_accuracy: 0.5552\n",
            "Epoch 29/300\n",
            "25/25 [==============================] - 2s 85ms/step - loss: 1.5482 - accuracy: 0.6912 - val_loss: 2.8151 - val_accuracy: 0.5519\n",
            "Epoch 30/300\n",
            "25/25 [==============================] - 2s 87ms/step - loss: 1.5305 - accuracy: 0.6931 - val_loss: 2.8288 - val_accuracy: 0.5575\n",
            "Epoch 31/300\n",
            "25/25 [==============================] - 2s 86ms/step - loss: 1.5144 - accuracy: 0.6970 - val_loss: 2.8156 - val_accuracy: 0.5573\n",
            "Epoch 32/300\n",
            "25/25 [==============================] - 2s 87ms/step - loss: 1.4964 - accuracy: 0.6986 - val_loss: 2.8152 - val_accuracy: 0.5554\n",
            "Epoch 33/300\n",
            "25/25 [==============================] - 2s 86ms/step - loss: 1.4778 - accuracy: 0.7013 - val_loss: 2.8076 - val_accuracy: 0.5621\n",
            "Epoch 34/300\n",
            "25/25 [==============================] - 2s 87ms/step - loss: 1.4604 - accuracy: 0.7040 - val_loss: 2.8184 - val_accuracy: 0.5558\n",
            "Epoch 35/300\n",
            "25/25 [==============================] - 2s 87ms/step - loss: 1.4418 - accuracy: 0.7057 - val_loss: 2.8133 - val_accuracy: 0.5571\n",
            "Epoch 36/300\n",
            "25/25 [==============================] - 2s 83ms/step - loss: 1.4293 - accuracy: 0.7084 - val_loss: 2.8147 - val_accuracy: 0.5610\n",
            "Epoch 37/300\n",
            "25/25 [==============================] - 2s 85ms/step - loss: 1.4105 - accuracy: 0.7113 - val_loss: 2.8014 - val_accuracy: 0.5653\n",
            "Epoch 38/300\n",
            "25/25 [==============================] - 2s 84ms/step - loss: 1.3961 - accuracy: 0.7131 - val_loss: 2.7995 - val_accuracy: 0.5542\n",
            "Epoch 39/300\n",
            "25/25 [==============================] - 2s 85ms/step - loss: 1.3766 - accuracy: 0.7163 - val_loss: 2.7969 - val_accuracy: 0.5644\n",
            "Epoch 40/300\n",
            "25/25 [==============================] - 2s 84ms/step - loss: 1.3506 - accuracy: 0.7209 - val_loss: 2.7966 - val_accuracy: 0.5649\n",
            "Epoch 41/300\n",
            "25/25 [==============================] - 2s 85ms/step - loss: 1.3366 - accuracy: 0.7233 - val_loss: 2.7901 - val_accuracy: 0.5645\n",
            "Epoch 42/300\n",
            "25/25 [==============================] - 2s 84ms/step - loss: 1.3274 - accuracy: 0.7238 - val_loss: 2.8005 - val_accuracy: 0.5668\n",
            "Epoch 43/300\n",
            "25/25 [==============================] - 2s 85ms/step - loss: 1.3159 - accuracy: 0.7243 - val_loss: 2.7774 - val_accuracy: 0.5621\n",
            "Epoch 44/300\n",
            "25/25 [==============================] - 2s 84ms/step - loss: 1.2935 - accuracy: 0.7288 - val_loss: 2.7809 - val_accuracy: 0.5660\n",
            "Epoch 45/300\n",
            "25/25 [==============================] - 2s 84ms/step - loss: 1.2703 - accuracy: 0.7336 - val_loss: 2.8045 - val_accuracy: 0.5559\n",
            "Epoch 46/300\n",
            "25/25 [==============================] - 2s 86ms/step - loss: 1.2566 - accuracy: 0.7350 - val_loss: 2.7907 - val_accuracy: 0.5632\n",
            "Epoch 47/300\n",
            "25/25 [==============================] - 2s 84ms/step - loss: 1.2345 - accuracy: 0.7401 - val_loss: 2.7892 - val_accuracy: 0.5675\n",
            "Epoch 48/300\n",
            "25/25 [==============================] - 2s 85ms/step - loss: 1.2213 - accuracy: 0.7421 - val_loss: 2.7859 - val_accuracy: 0.5675\n",
            "Epoch 49/300\n",
            "25/25 [==============================] - 2s 85ms/step - loss: 1.2055 - accuracy: 0.7452 - val_loss: 2.7826 - val_accuracy: 0.5695\n",
            "Epoch 50/300\n",
            "25/25 [==============================] - 2s 84ms/step - loss: 1.1915 - accuracy: 0.7462 - val_loss: 2.7754 - val_accuracy: 0.5704\n",
            "Epoch 51/300\n",
            "25/25 [==============================] - 2s 84ms/step - loss: 1.1733 - accuracy: 0.7506 - val_loss: 2.7841 - val_accuracy: 0.5710\n",
            "Epoch 52/300\n",
            "25/25 [==============================] - 2s 84ms/step - loss: 1.1625 - accuracy: 0.7522 - val_loss: 2.7761 - val_accuracy: 0.5686\n",
            "Epoch 53/300\n",
            "25/25 [==============================] - 2s 84ms/step - loss: 1.1423 - accuracy: 0.7562 - val_loss: 2.7673 - val_accuracy: 0.5765\n",
            "Epoch 54/300\n",
            "25/25 [==============================] - 2s 85ms/step - loss: 1.1392 - accuracy: 0.7556 - val_loss: 2.7594 - val_accuracy: 0.5723\n",
            "Epoch 55/300\n",
            "25/25 [==============================] - 2s 84ms/step - loss: 1.1142 - accuracy: 0.7610 - val_loss: 2.7703 - val_accuracy: 0.5704\n",
            "Epoch 56/300\n",
            "25/25 [==============================] - 2s 84ms/step - loss: 1.0914 - accuracy: 0.7670 - val_loss: 2.7756 - val_accuracy: 0.5740\n",
            "Epoch 57/300\n",
            "25/25 [==============================] - 2s 84ms/step - loss: 1.0806 - accuracy: 0.7674 - val_loss: 2.7726 - val_accuracy: 0.5769\n",
            "Epoch 58/300\n",
            "25/25 [==============================] - 2s 84ms/step - loss: 1.0697 - accuracy: 0.7698 - val_loss: 2.7654 - val_accuracy: 0.5773\n",
            "Epoch 59/300\n",
            "25/25 [==============================] - 2s 85ms/step - loss: 1.0520 - accuracy: 0.7743 - val_loss: 2.7686 - val_accuracy: 0.5788\n",
            "Epoch 60/300\n",
            "25/25 [==============================] - 2s 84ms/step - loss: 1.0350 - accuracy: 0.7781 - val_loss: 2.7677 - val_accuracy: 0.5767\n",
            "Epoch 61/300\n",
            "25/25 [==============================] - 2s 85ms/step - loss: 1.0192 - accuracy: 0.7814 - val_loss: 2.7774 - val_accuracy: 0.5782\n",
            "Epoch 62/300\n",
            "25/25 [==============================] - 2s 85ms/step - loss: 1.0052 - accuracy: 0.7839 - val_loss: 2.7611 - val_accuracy: 0.5822\n",
            "Epoch 63/300\n",
            "25/25 [==============================] - 2s 84ms/step - loss: 0.9914 - accuracy: 0.7875 - val_loss: 2.7611 - val_accuracy: 0.5819\n",
            "Epoch 64/300\n",
            "25/25 [==============================] - 2s 85ms/step - loss: 0.9775 - accuracy: 0.7887 - val_loss: 2.7676 - val_accuracy: 0.5760\n",
            "Epoch 65/300\n",
            "25/25 [==============================] - 2s 87ms/step - loss: 0.9610 - accuracy: 0.7937 - val_loss: 2.7566 - val_accuracy: 0.5796\n",
            "Epoch 66/300\n",
            "25/25 [==============================] - 2s 85ms/step - loss: 0.9484 - accuracy: 0.7959 - val_loss: 2.7568 - val_accuracy: 0.5797\n",
            "Epoch 67/300\n",
            "25/25 [==============================] - 2s 86ms/step - loss: 0.9331 - accuracy: 0.7986 - val_loss: 2.7633 - val_accuracy: 0.5815\n",
            "Epoch 68/300\n",
            "25/25 [==============================] - 2s 86ms/step - loss: 0.9196 - accuracy: 0.8013 - val_loss: 2.7590 - val_accuracy: 0.5830\n",
            "Epoch 69/300\n",
            "25/25 [==============================] - 2s 84ms/step - loss: 0.9096 - accuracy: 0.8037 - val_loss: 2.7535 - val_accuracy: 0.5789\n",
            "Epoch 70/300\n",
            "25/25 [==============================] - 2s 84ms/step - loss: 0.8986 - accuracy: 0.8063 - val_loss: 2.7362 - val_accuracy: 0.5854\n",
            "Epoch 71/300\n",
            "25/25 [==============================] - 2s 85ms/step - loss: 0.8787 - accuracy: 0.8101 - val_loss: 2.7582 - val_accuracy: 0.5862\n",
            "Epoch 72/300\n",
            "25/25 [==============================] - 2s 85ms/step - loss: 0.8698 - accuracy: 0.8117 - val_loss: 2.7288 - val_accuracy: 0.5846\n",
            "Epoch 73/300\n",
            "25/25 [==============================] - 2s 84ms/step - loss: 0.8553 - accuracy: 0.8155 - val_loss: 2.7644 - val_accuracy: 0.5792\n",
            "Epoch 74/300\n",
            "25/25 [==============================] - 2s 85ms/step - loss: 0.8473 - accuracy: 0.8163 - val_loss: 2.8024 - val_accuracy: 0.5702\n",
            "Epoch 75/300\n",
            "25/25 [==============================] - 2s 84ms/step - loss: 0.8474 - accuracy: 0.8159 - val_loss: 2.7500 - val_accuracy: 0.5873\n",
            "Epoch 76/300\n",
            "25/25 [==============================] - 2s 84ms/step - loss: 0.8141 - accuracy: 0.8247 - val_loss: 2.7450 - val_accuracy: 0.5861\n",
            "Epoch 77/300\n",
            "25/25 [==============================] - 2s 84ms/step - loss: 0.7992 - accuracy: 0.8283 - val_loss: 2.7551 - val_accuracy: 0.5879\n",
            "Epoch 78/300\n",
            "25/25 [==============================] - 2s 83ms/step - loss: 0.7874 - accuracy: 0.8301 - val_loss: 2.7401 - val_accuracy: 0.5904\n",
            "Epoch 79/300\n",
            "25/25 [==============================] - 2s 84ms/step - loss: 0.7727 - accuracy: 0.8345 - val_loss: 2.7517 - val_accuracy: 0.5866\n",
            "Epoch 80/300\n",
            "25/25 [==============================] - 2s 84ms/step - loss: 0.7625 - accuracy: 0.8367 - val_loss: 2.7551 - val_accuracy: 0.5904\n",
            "Epoch 81/300\n",
            "25/25 [==============================] - 2s 84ms/step - loss: 0.7588 - accuracy: 0.8351 - val_loss: 2.7424 - val_accuracy: 0.5887\n",
            "Epoch 82/300\n",
            "25/25 [==============================] - 2s 84ms/step - loss: 0.7433 - accuracy: 0.8387 - val_loss: 2.7418 - val_accuracy: 0.5899\n",
            "Epoch 83/300\n",
            "25/25 [==============================] - 2s 84ms/step - loss: 0.7265 - accuracy: 0.8441 - val_loss: 2.7512 - val_accuracy: 0.5910\n",
            "Epoch 84/300\n",
            "25/25 [==============================] - 2s 84ms/step - loss: 0.7114 - accuracy: 0.8477 - val_loss: 2.7512 - val_accuracy: 0.5910\n",
            "Epoch 85/300\n",
            "25/25 [==============================] - 2s 84ms/step - loss: 0.7060 - accuracy: 0.8483 - val_loss: 2.7518 - val_accuracy: 0.5941\n",
            "Epoch 86/300\n",
            "25/25 [==============================] - 2s 85ms/step - loss: 0.6952 - accuracy: 0.8511 - val_loss: 2.7498 - val_accuracy: 0.5921\n",
            "Epoch 87/300\n",
            "25/25 [==============================] - 2s 85ms/step - loss: 0.6806 - accuracy: 0.8532 - val_loss: 2.7468 - val_accuracy: 0.5912\n",
            "Epoch 88/300\n",
            "25/25 [==============================] - 2s 85ms/step - loss: 0.6774 - accuracy: 0.8530 - val_loss: 2.7275 - val_accuracy: 0.5940\n",
            "Epoch 89/300\n",
            "25/25 [==============================] - 2s 85ms/step - loss: 0.6611 - accuracy: 0.8582 - val_loss: 2.7548 - val_accuracy: 0.5913\n",
            "Epoch 90/300\n",
            "25/25 [==============================] - 2s 85ms/step - loss: 0.6551 - accuracy: 0.8593 - val_loss: 2.7945 - val_accuracy: 0.5810\n",
            "Epoch 91/300\n",
            "25/25 [==============================] - 2s 86ms/step - loss: 0.6543 - accuracy: 0.8578 - val_loss: 2.7424 - val_accuracy: 0.5914\n",
            "Epoch 92/300\n",
            "25/25 [==============================] - 2s 85ms/step - loss: 0.6392 - accuracy: 0.8620 - val_loss: 2.7401 - val_accuracy: 0.5910\n",
            "Epoch 93/300\n",
            "25/25 [==============================] - 2s 84ms/step - loss: 0.6257 - accuracy: 0.8653 - val_loss: 2.7447 - val_accuracy: 0.5952\n",
            "Epoch 94/300\n",
            "25/25 [==============================] - 2s 84ms/step - loss: 0.6105 - accuracy: 0.8687 - val_loss: 2.7561 - val_accuracy: 0.5962\n",
            "Epoch 95/300\n",
            "25/25 [==============================] - 2s 84ms/step - loss: 0.5984 - accuracy: 0.8717 - val_loss: 2.7499 - val_accuracy: 0.5963\n",
            "Epoch 96/300\n",
            "25/25 [==============================] - 2s 85ms/step - loss: 0.5864 - accuracy: 0.8750 - val_loss: 2.7476 - val_accuracy: 0.5978\n",
            "Epoch 97/300\n",
            "25/25 [==============================] - 2s 85ms/step - loss: 0.5792 - accuracy: 0.8766 - val_loss: 2.7501 - val_accuracy: 0.5943\n",
            "Epoch 98/300\n",
            "25/25 [==============================] - 2s 84ms/step - loss: 0.5699 - accuracy: 0.8780 - val_loss: 2.7514 - val_accuracy: 0.5963\n",
            "Epoch 99/300\n",
            "25/25 [==============================] - 2s 83ms/step - loss: 0.5622 - accuracy: 0.8797 - val_loss: 2.7477 - val_accuracy: 0.6004\n",
            "Epoch 100/300\n",
            "25/25 [==============================] - 2s 84ms/step - loss: 0.5520 - accuracy: 0.8819 - val_loss: 2.7478 - val_accuracy: 0.5971\n",
            "Epoch 101/300\n",
            "25/25 [==============================] - 2s 85ms/step - loss: 0.5432 - accuracy: 0.8835 - val_loss: 2.7687 - val_accuracy: 0.5950\n",
            "Epoch 102/300\n",
            "25/25 [==============================] - 2s 85ms/step - loss: 0.5382 - accuracy: 0.8844 - val_loss: 2.7654 - val_accuracy: 0.5959\n",
            "Epoch 103/300\n",
            "25/25 [==============================] - 2s 84ms/step - loss: 0.5244 - accuracy: 0.8879 - val_loss: 2.7612 - val_accuracy: 0.5976\n",
            "Epoch 104/300\n",
            "25/25 [==============================] - 2s 84ms/step - loss: 0.5230 - accuracy: 0.8884 - val_loss: 2.7493 - val_accuracy: 0.5995\n",
            "Epoch 105/300\n",
            "25/25 [==============================] - 2s 85ms/step - loss: 0.5127 - accuracy: 0.8903 - val_loss: 2.7669 - val_accuracy: 0.5960\n",
            "Epoch 106/300\n",
            "25/25 [==============================] - 2s 84ms/step - loss: 0.4997 - accuracy: 0.8935 - val_loss: 2.7580 - val_accuracy: 0.5996\n",
            "Epoch 107/300\n",
            "25/25 [==============================] - 2s 84ms/step - loss: 0.4929 - accuracy: 0.8954 - val_loss: 2.7673 - val_accuracy: 0.5964\n",
            "Epoch 108/300\n",
            "25/25 [==============================] - 2s 85ms/step - loss: 0.4838 - accuracy: 0.8968 - val_loss: 2.7781 - val_accuracy: 0.5990\n",
            "Epoch 109/300\n",
            "25/25 [==============================] - 2s 84ms/step - loss: 0.4747 - accuracy: 0.8992 - val_loss: 2.7641 - val_accuracy: 0.6012\n",
            "Epoch 110/300\n",
            "25/25 [==============================] - 2s 84ms/step - loss: 0.4675 - accuracy: 0.9001 - val_loss: 2.7716 - val_accuracy: 0.5999\n",
            "Epoch 111/300\n",
            "25/25 [==============================] - 2s 85ms/step - loss: 0.4587 - accuracy: 0.9024 - val_loss: 2.7703 - val_accuracy: 0.6026\n",
            "Epoch 112/300\n",
            "25/25 [==============================] - 2s 85ms/step - loss: 0.4726 - accuracy: 0.8966 - val_loss: 2.7874 - val_accuracy: 0.6046\n",
            "Epoch 113/300\n",
            "25/25 [==============================] - 2s 85ms/step - loss: 0.4730 - accuracy: 0.8965 - val_loss: 2.7691 - val_accuracy: 0.6008\n",
            "Epoch 114/300\n",
            "25/25 [==============================] - 2s 85ms/step - loss: 0.4422 - accuracy: 0.9061 - val_loss: 2.7718 - val_accuracy: 0.6024\n",
            "Epoch 115/300\n",
            "25/25 [==============================] - 2s 84ms/step - loss: 0.4285 - accuracy: 0.9095 - val_loss: 2.7731 - val_accuracy: 0.6036\n",
            "Epoch 116/300\n",
            "25/25 [==============================] - 2s 84ms/step - loss: 0.4236 - accuracy: 0.9096 - val_loss: 2.7713 - val_accuracy: 0.6037\n",
            "Epoch 117/300\n",
            "25/25 [==============================] - 2s 84ms/step - loss: 0.4153 - accuracy: 0.9126 - val_loss: 2.7918 - val_accuracy: 0.6049\n",
            "Epoch 118/300\n",
            "25/25 [==============================] - 2s 85ms/step - loss: 0.4090 - accuracy: 0.9131 - val_loss: 2.7883 - val_accuracy: 0.6024\n",
            "Epoch 119/300\n",
            "25/25 [==============================] - 2s 84ms/step - loss: 0.3996 - accuracy: 0.9157 - val_loss: 2.7936 - val_accuracy: 0.6060\n",
            "Epoch 120/300\n",
            "25/25 [==============================] - 2s 83ms/step - loss: 0.3961 - accuracy: 0.9172 - val_loss: 2.7885 - val_accuracy: 0.6033\n",
            "Epoch 121/300\n",
            "25/25 [==============================] - 2s 84ms/step - loss: 0.3889 - accuracy: 0.9185 - val_loss: 2.7918 - val_accuracy: 0.6057\n",
            "Epoch 122/300\n",
            "25/25 [==============================] - 2s 85ms/step - loss: 0.3815 - accuracy: 0.9197 - val_loss: 2.7934 - val_accuracy: 0.6039\n",
            "Epoch 123/300\n",
            "25/25 [==============================] - 2s 85ms/step - loss: 0.3748 - accuracy: 0.9215 - val_loss: 2.7955 - val_accuracy: 0.6072\n",
            "Epoch 124/300\n",
            "25/25 [==============================] - 2s 84ms/step - loss: 0.3729 - accuracy: 0.9217 - val_loss: 2.8006 - val_accuracy: 0.6071\n",
            "Epoch 125/300\n",
            "25/25 [==============================] - 2s 85ms/step - loss: 0.3627 - accuracy: 0.9244 - val_loss: 2.7969 - val_accuracy: 0.6058\n",
            "Epoch 126/300\n",
            "25/25 [==============================] - 2s 84ms/step - loss: 0.3581 - accuracy: 0.9249 - val_loss: 2.8057 - val_accuracy: 0.6069\n",
            "Epoch 127/300\n",
            "25/25 [==============================] - 2s 85ms/step - loss: 0.3538 - accuracy: 0.9260 - val_loss: 2.8002 - val_accuracy: 0.6083\n",
            "Epoch 128/300\n",
            "25/25 [==============================] - 2s 85ms/step - loss: 0.3487 - accuracy: 0.9277 - val_loss: 2.8053 - val_accuracy: 0.6074\n",
            "Epoch 129/300\n",
            "25/25 [==============================] - 2s 84ms/step - loss: 0.3405 - accuracy: 0.9295 - val_loss: 2.8205 - val_accuracy: 0.6026\n",
            "Epoch 130/300\n",
            "25/25 [==============================] - 2s 84ms/step - loss: 0.3392 - accuracy: 0.9290 - val_loss: 2.8074 - val_accuracy: 0.6046\n",
            "Epoch 131/300\n",
            "25/25 [==============================] - 2s 84ms/step - loss: 0.3313 - accuracy: 0.9314 - val_loss: 2.8125 - val_accuracy: 0.6061\n",
            "Epoch 132/300\n",
            "25/25 [==============================] - 2s 84ms/step - loss: 0.3239 - accuracy: 0.9337 - val_loss: 2.8190 - val_accuracy: 0.6077\n",
            "Epoch 133/300\n",
            "25/25 [==============================] - 2s 84ms/step - loss: 0.3200 - accuracy: 0.9341 - val_loss: 2.8110 - val_accuracy: 0.6044\n",
            "Epoch 134/300\n",
            "25/25 [==============================] - 2s 84ms/step - loss: 0.3212 - accuracy: 0.9336 - val_loss: 2.8312 - val_accuracy: 0.6083\n",
            "Epoch 135/300\n",
            "25/25 [==============================] - 2s 84ms/step - loss: 0.3182 - accuracy: 0.9333 - val_loss: 2.8231 - val_accuracy: 0.6046\n",
            "Epoch 136/300\n",
            "25/25 [==============================] - 2s 85ms/step - loss: 0.3093 - accuracy: 0.9360 - val_loss: 2.8252 - val_accuracy: 0.6066\n",
            "Epoch 137/300\n",
            "25/25 [==============================] - 2s 85ms/step - loss: 0.3064 - accuracy: 0.9362 - val_loss: 2.8197 - val_accuracy: 0.6103\n",
            "Epoch 138/300\n",
            "25/25 [==============================] - 2s 84ms/step - loss: 0.3001 - accuracy: 0.9381 - val_loss: 2.8167 - val_accuracy: 0.6066\n",
            "Epoch 139/300\n",
            "25/25 [==============================] - 2s 85ms/step - loss: 0.2922 - accuracy: 0.9403 - val_loss: 2.8310 - val_accuracy: 0.6084\n",
            "Epoch 140/300\n",
            "25/25 [==============================] - 2s 84ms/step - loss: 0.2897 - accuracy: 0.9405 - val_loss: 2.8379 - val_accuracy: 0.6087\n",
            "Epoch 141/300\n",
            "25/25 [==============================] - 2s 84ms/step - loss: 0.2816 - accuracy: 0.9423 - val_loss: 2.8491 - val_accuracy: 0.6063\n",
            "Epoch 142/300\n",
            "25/25 [==============================] - 2s 84ms/step - loss: 0.2780 - accuracy: 0.9433 - val_loss: 2.8484 - val_accuracy: 0.6066\n",
            "Epoch 143/300\n",
            "25/25 [==============================] - 2s 83ms/step - loss: 0.2729 - accuracy: 0.9457 - val_loss: 2.8481 - val_accuracy: 0.6087\n",
            "Epoch 144/300\n",
            "25/25 [==============================] - 2s 84ms/step - loss: 0.2700 - accuracy: 0.9452 - val_loss: 2.8473 - val_accuracy: 0.6084\n",
            "Epoch 145/300\n",
            "25/25 [==============================] - 2s 84ms/step - loss: 0.2663 - accuracy: 0.9460 - val_loss: 2.8649 - val_accuracy: 0.6074\n",
            "Epoch 146/300\n",
            "25/25 [==============================] - 2s 84ms/step - loss: 0.2596 - accuracy: 0.9483 - val_loss: 2.8492 - val_accuracy: 0.6086\n",
            "Epoch 147/300\n",
            "25/25 [==============================] - 2s 84ms/step - loss: 0.2563 - accuracy: 0.9486 - val_loss: 2.8572 - val_accuracy: 0.6100\n",
            "Epoch 148/300\n",
            "25/25 [==============================] - 2s 84ms/step - loss: 0.2514 - accuracy: 0.9504 - val_loss: 2.8657 - val_accuracy: 0.6112\n",
            "Epoch 149/300\n",
            "25/25 [==============================] - 2s 84ms/step - loss: 0.2444 - accuracy: 0.9513 - val_loss: 2.8621 - val_accuracy: 0.6141\n",
            "Epoch 150/300\n",
            "25/25 [==============================] - 2s 84ms/step - loss: 0.2416 - accuracy: 0.9518 - val_loss: 2.8641 - val_accuracy: 0.6143\n",
            "Epoch 151/300\n",
            "25/25 [==============================] - 2s 83ms/step - loss: 0.2364 - accuracy: 0.9526 - val_loss: 2.8655 - val_accuracy: 0.6096\n",
            "Epoch 152/300\n",
            "25/25 [==============================] - 2s 84ms/step - loss: 0.2333 - accuracy: 0.9543 - val_loss: 2.8786 - val_accuracy: 0.6134\n",
            "Epoch 153/300\n",
            "25/25 [==============================] - 2s 85ms/step - loss: 0.2318 - accuracy: 0.9546 - val_loss: 2.8707 - val_accuracy: 0.6098\n",
            "Epoch 154/300\n",
            "25/25 [==============================] - 2s 85ms/step - loss: 0.2292 - accuracy: 0.9550 - val_loss: 2.8742 - val_accuracy: 0.6096\n",
            "Epoch 155/300\n",
            "25/25 [==============================] - 2s 85ms/step - loss: 0.2296 - accuracy: 0.9543 - val_loss: 2.8921 - val_accuracy: 0.6061\n",
            "Epoch 156/300\n",
            "25/25 [==============================] - 2s 84ms/step - loss: 0.2322 - accuracy: 0.9532 - val_loss: 2.8671 - val_accuracy: 0.6088\n",
            "Epoch 157/300\n",
            "25/25 [==============================] - 2s 86ms/step - loss: 0.2240 - accuracy: 0.9552 - val_loss: 2.8793 - val_accuracy: 0.6114\n",
            "Epoch 158/300\n",
            "25/25 [==============================] - 2s 84ms/step - loss: 0.2144 - accuracy: 0.9585 - val_loss: 2.8913 - val_accuracy: 0.6099\n",
            "Epoch 159/300\n",
            "25/25 [==============================] - 2s 85ms/step - loss: 0.2087 - accuracy: 0.9593 - val_loss: 2.8963 - val_accuracy: 0.6113\n",
            "Epoch 160/300\n",
            "25/25 [==============================] - 2s 85ms/step - loss: 0.2077 - accuracy: 0.9595 - val_loss: 2.8940 - val_accuracy: 0.6140\n",
            "Epoch 161/300\n",
            "25/25 [==============================] - 2s 84ms/step - loss: 0.2089 - accuracy: 0.9594 - val_loss: 2.8850 - val_accuracy: 0.6122\n",
            "Epoch 162/300\n",
            "25/25 [==============================] - 2s 85ms/step - loss: 0.2041 - accuracy: 0.9597 - val_loss: 2.9072 - val_accuracy: 0.6129\n",
            "Epoch 163/300\n",
            "25/25 [==============================] - 2s 84ms/step - loss: 0.2002 - accuracy: 0.9611 - val_loss: 2.9093 - val_accuracy: 0.6107\n",
            "Epoch 164/300\n",
            "25/25 [==============================] - 2s 85ms/step - loss: 0.1974 - accuracy: 0.9617 - val_loss: 2.9118 - val_accuracy: 0.6110\n",
            "Epoch 165/300\n",
            "25/25 [==============================] - 2s 84ms/step - loss: 0.1906 - accuracy: 0.9642 - val_loss: 2.9118 - val_accuracy: 0.6157\n",
            "Epoch 166/300\n",
            "25/25 [==============================] - 2s 84ms/step - loss: 0.1880 - accuracy: 0.9642 - val_loss: 2.9175 - val_accuracy: 0.6127\n",
            "Epoch 167/300\n",
            "25/25 [==============================] - 2s 83ms/step - loss: 0.1883 - accuracy: 0.9633 - val_loss: 2.9254 - val_accuracy: 0.6156\n",
            "Epoch 168/300\n",
            "25/25 [==============================] - 2s 85ms/step - loss: 0.1825 - accuracy: 0.9654 - val_loss: 2.9314 - val_accuracy: 0.6148\n",
            "Epoch 169/300\n",
            "25/25 [==============================] - 2s 84ms/step - loss: 0.1818 - accuracy: 0.9656 - val_loss: 2.9196 - val_accuracy: 0.6144\n",
            "Epoch 170/300\n",
            "25/25 [==============================] - 2s 85ms/step - loss: 0.1802 - accuracy: 0.9660 - val_loss: 2.9311 - val_accuracy: 0.6091\n",
            "Epoch 171/300\n",
            "25/25 [==============================] - 2s 85ms/step - loss: 0.1739 - accuracy: 0.9678 - val_loss: 2.9296 - val_accuracy: 0.6153\n",
            "Epoch 172/300\n",
            "25/25 [==============================] - 2s 84ms/step - loss: 0.1691 - accuracy: 0.9685 - val_loss: 2.9470 - val_accuracy: 0.6112\n",
            "Epoch 173/300\n",
            "25/25 [==============================] - 2s 84ms/step - loss: 0.1670 - accuracy: 0.9687 - val_loss: 2.9533 - val_accuracy: 0.6135\n",
            "Epoch 174/300\n",
            "25/25 [==============================] - 2s 85ms/step - loss: 0.1653 - accuracy: 0.9691 - val_loss: 2.9340 - val_accuracy: 0.6116\n",
            "Epoch 175/300\n",
            "25/25 [==============================] - 2s 85ms/step - loss: 0.1635 - accuracy: 0.9699 - val_loss: 2.9647 - val_accuracy: 0.6162\n",
            "Epoch 176/300\n",
            "25/25 [==============================] - 2s 84ms/step - loss: 0.1652 - accuracy: 0.9690 - val_loss: 2.9557 - val_accuracy: 0.6137\n",
            "Epoch 177/300\n",
            "25/25 [==============================] - 2s 85ms/step - loss: 0.1645 - accuracy: 0.9690 - val_loss: 2.9480 - val_accuracy: 0.6174\n",
            "Epoch 178/300\n",
            "25/25 [==============================] - 2s 85ms/step - loss: 0.1695 - accuracy: 0.9666 - val_loss: 2.9645 - val_accuracy: 0.6138\n",
            "Epoch 179/300\n",
            "25/25 [==============================] - 2s 84ms/step - loss: 0.1599 - accuracy: 0.9701 - val_loss: 2.9841 - val_accuracy: 0.6177\n",
            "Epoch 180/300\n",
            "25/25 [==============================] - 2s 85ms/step - loss: 0.1573 - accuracy: 0.9706 - val_loss: 2.9660 - val_accuracy: 0.6175\n",
            "Epoch 181/300\n",
            "25/25 [==============================] - 2s 84ms/step - loss: 0.1500 - accuracy: 0.9728 - val_loss: 2.9639 - val_accuracy: 0.6177\n",
            "Epoch 182/300\n",
            "25/25 [==============================] - 2s 84ms/step - loss: 0.1482 - accuracy: 0.9731 - val_loss: 2.9620 - val_accuracy: 0.6172\n",
            "Epoch 183/300\n",
            "25/25 [==============================] - 2s 85ms/step - loss: 0.1460 - accuracy: 0.9730 - val_loss: 2.9829 - val_accuracy: 0.6129\n",
            "Epoch 184/300\n",
            "25/25 [==============================] - 2s 84ms/step - loss: 0.1429 - accuracy: 0.9738 - val_loss: 2.9704 - val_accuracy: 0.6143\n",
            "Epoch 185/300\n",
            "25/25 [==============================] - 2s 84ms/step - loss: 0.1421 - accuracy: 0.9741 - val_loss: 2.9754 - val_accuracy: 0.6133\n",
            "Epoch 186/300\n",
            "25/25 [==============================] - 2s 85ms/step - loss: 0.1428 - accuracy: 0.9736 - val_loss: 2.9960 - val_accuracy: 0.6142\n",
            "Epoch 187/300\n",
            "25/25 [==============================] - 2s 84ms/step - loss: 0.1381 - accuracy: 0.9752 - val_loss: 2.9925 - val_accuracy: 0.6129\n",
            "Epoch 188/300\n",
            "25/25 [==============================] - 2s 85ms/step - loss: 0.1367 - accuracy: 0.9755 - val_loss: 2.9913 - val_accuracy: 0.6201\n",
            "Epoch 189/300\n",
            "25/25 [==============================] - 2s 85ms/step - loss: 0.1410 - accuracy: 0.9737 - val_loss: 2.9844 - val_accuracy: 0.6144\n",
            "Epoch 190/300\n",
            "25/25 [==============================] - 2s 85ms/step - loss: 0.1331 - accuracy: 0.9761 - val_loss: 2.9960 - val_accuracy: 0.6149\n",
            "Epoch 191/300\n",
            "25/25 [==============================] - 2s 85ms/step - loss: 0.1311 - accuracy: 0.9761 - val_loss: 2.9996 - val_accuracy: 0.6146\n",
            "Epoch 192/300\n",
            "25/25 [==============================] - 2s 84ms/step - loss: 0.1302 - accuracy: 0.9766 - val_loss: 2.9943 - val_accuracy: 0.6167\n",
            "Epoch 193/300\n",
            "25/25 [==============================] - 2s 84ms/step - loss: 0.1271 - accuracy: 0.9768 - val_loss: 3.0110 - val_accuracy: 0.6189\n",
            "Epoch 194/300\n",
            "25/25 [==============================] - 2s 84ms/step - loss: 0.1265 - accuracy: 0.9774 - val_loss: 2.9989 - val_accuracy: 0.6121\n",
            "Epoch 195/300\n",
            "25/25 [==============================] - 2s 85ms/step - loss: 0.1241 - accuracy: 0.9780 - val_loss: 3.0063 - val_accuracy: 0.6137\n",
            "Epoch 196/300\n",
            "25/25 [==============================] - 2s 84ms/step - loss: 0.1242 - accuracy: 0.9776 - val_loss: 3.0142 - val_accuracy: 0.6189\n",
            "Epoch 197/300\n",
            "25/25 [==============================] - 2s 84ms/step - loss: 0.1241 - accuracy: 0.9773 - val_loss: 3.0098 - val_accuracy: 0.6128\n",
            "Epoch 198/300\n",
            "25/25 [==============================] - 2s 84ms/step - loss: 0.1185 - accuracy: 0.9795 - val_loss: 3.0103 - val_accuracy: 0.6185\n",
            "Epoch 199/300\n",
            "25/25 [==============================] - 2s 84ms/step - loss: 0.1155 - accuracy: 0.9796 - val_loss: 3.0199 - val_accuracy: 0.6179\n",
            "Epoch 200/300\n",
            "25/25 [==============================] - 2s 86ms/step - loss: 0.1146 - accuracy: 0.9800 - val_loss: 3.0220 - val_accuracy: 0.6153\n",
            "Epoch 201/300\n",
            "25/25 [==============================] - 2s 85ms/step - loss: 0.1139 - accuracy: 0.9798 - val_loss: 3.0278 - val_accuracy: 0.6184\n",
            "Epoch 202/300\n",
            "25/25 [==============================] - 2s 85ms/step - loss: 0.1117 - accuracy: 0.9801 - val_loss: 3.0201 - val_accuracy: 0.6132\n",
            "Epoch 203/300\n",
            "25/25 [==============================] - 2s 84ms/step - loss: 0.1117 - accuracy: 0.9799 - val_loss: 3.0387 - val_accuracy: 0.6190\n",
            "Epoch 204/300\n",
            "25/25 [==============================] - 2s 85ms/step - loss: 0.1083 - accuracy: 0.9811 - val_loss: 3.0440 - val_accuracy: 0.6158\n",
            "Epoch 205/300\n",
            "25/25 [==============================] - 2s 85ms/step - loss: 0.1077 - accuracy: 0.9806 - val_loss: 3.0371 - val_accuracy: 0.6187\n",
            "Epoch 206/300\n",
            "25/25 [==============================] - 2s 84ms/step - loss: 0.1057 - accuracy: 0.9815 - val_loss: 3.0409 - val_accuracy: 0.6166\n",
            "Epoch 207/300\n",
            "25/25 [==============================] - 2s 85ms/step - loss: 0.1064 - accuracy: 0.9812 - val_loss: 3.0470 - val_accuracy: 0.6165\n",
            "Epoch 208/300\n",
            "25/25 [==============================] - 2s 84ms/step - loss: 0.1053 - accuracy: 0.9815 - val_loss: 3.0416 - val_accuracy: 0.6155\n",
            "Epoch 209/300\n",
            "25/25 [==============================] - 2s 85ms/step - loss: 0.1044 - accuracy: 0.9814 - val_loss: 3.0599 - val_accuracy: 0.6139\n",
            "Epoch 210/300\n",
            "25/25 [==============================] - 2s 86ms/step - loss: 0.1028 - accuracy: 0.9822 - val_loss: 3.0600 - val_accuracy: 0.6176\n",
            "Epoch 211/300\n",
            "25/25 [==============================] - 2s 84ms/step - loss: 0.1014 - accuracy: 0.9822 - val_loss: 3.0589 - val_accuracy: 0.6186\n",
            "Epoch 212/300\n",
            "25/25 [==============================] - 2s 85ms/step - loss: 0.0995 - accuracy: 0.9821 - val_loss: 3.0508 - val_accuracy: 0.6191\n",
            "Epoch 213/300\n",
            "25/25 [==============================] - 2s 86ms/step - loss: 0.0983 - accuracy: 0.9828 - val_loss: 3.0830 - val_accuracy: 0.6143\n",
            "Epoch 214/300\n",
            "25/25 [==============================] - 2s 85ms/step - loss: 0.0976 - accuracy: 0.9828 - val_loss: 3.0756 - val_accuracy: 0.6154\n",
            "Epoch 215/300\n",
            "25/25 [==============================] - 2s 85ms/step - loss: 0.0948 - accuracy: 0.9835 - val_loss: 3.0701 - val_accuracy: 0.6179\n",
            "Epoch 216/300\n",
            "25/25 [==============================] - 2s 85ms/step - loss: 0.0933 - accuracy: 0.9843 - val_loss: 3.0656 - val_accuracy: 0.6185\n",
            "Epoch 217/300\n",
            "25/25 [==============================] - 2s 85ms/step - loss: 0.0915 - accuracy: 0.9843 - val_loss: 3.0887 - val_accuracy: 0.6154\n",
            "Epoch 218/300\n",
            "25/25 [==============================] - 2s 85ms/step - loss: 0.0924 - accuracy: 0.9837 - val_loss: 3.0863 - val_accuracy: 0.6173\n",
            "Epoch 219/300\n",
            "25/25 [==============================] - 2s 84ms/step - loss: 0.0935 - accuracy: 0.9834 - val_loss: 3.0765 - val_accuracy: 0.6209\n",
            "Epoch 220/300\n",
            "25/25 [==============================] - 2s 84ms/step - loss: 0.0914 - accuracy: 0.9842 - val_loss: 3.0838 - val_accuracy: 0.6203\n",
            "Epoch 221/300\n",
            "25/25 [==============================] - 2s 85ms/step - loss: 0.0886 - accuracy: 0.9847 - val_loss: 3.1013 - val_accuracy: 0.6173\n",
            "Epoch 222/300\n",
            "25/25 [==============================] - 2s 84ms/step - loss: 0.0884 - accuracy: 0.9843 - val_loss: 3.0874 - val_accuracy: 0.6143\n",
            "Epoch 223/300\n",
            "25/25 [==============================] - 2s 84ms/step - loss: 0.0864 - accuracy: 0.9849 - val_loss: 3.0957 - val_accuracy: 0.6171\n",
            "Epoch 224/300\n",
            "25/25 [==============================] - 2s 84ms/step - loss: 0.0876 - accuracy: 0.9845 - val_loss: 3.0987 - val_accuracy: 0.6166\n",
            "Epoch 225/300\n",
            "25/25 [==============================] - 2s 86ms/step - loss: 0.0854 - accuracy: 0.9847 - val_loss: 3.0987 - val_accuracy: 0.6196\n",
            "Epoch 226/300\n",
            "25/25 [==============================] - 2s 85ms/step - loss: 0.0861 - accuracy: 0.9849 - val_loss: 3.1116 - val_accuracy: 0.6221\n",
            "Epoch 227/300\n",
            "25/25 [==============================] - 2s 84ms/step - loss: 0.0846 - accuracy: 0.9847 - val_loss: 3.1116 - val_accuracy: 0.6192\n",
            "Epoch 228/300\n",
            "25/25 [==============================] - 2s 84ms/step - loss: 0.0855 - accuracy: 0.9844 - val_loss: 3.0945 - val_accuracy: 0.6196\n",
            "Epoch 229/300\n",
            "25/25 [==============================] - 2s 84ms/step - loss: 0.0907 - accuracy: 0.9828 - val_loss: 3.1677 - val_accuracy: 0.6157\n",
            "Epoch 230/300\n",
            "25/25 [==============================] - 2s 84ms/step - loss: 0.1408 - accuracy: 0.9674 - val_loss: 3.1047 - val_accuracy: 0.6115\n",
            "Epoch 231/300\n",
            "25/25 [==============================] - 2s 85ms/step - loss: 0.1292 - accuracy: 0.9709 - val_loss: 3.0844 - val_accuracy: 0.6177\n",
            "Epoch 232/300\n",
            "25/25 [==============================] - 2s 85ms/step - loss: 0.0900 - accuracy: 0.9838 - val_loss: 3.0771 - val_accuracy: 0.6221\n",
            "Epoch 233/300\n",
            "25/25 [==============================] - 2s 85ms/step - loss: 0.0828 - accuracy: 0.9850 - val_loss: 3.1043 - val_accuracy: 0.6189\n",
            "Epoch 234/300\n",
            "25/25 [==============================] - 2s 87ms/step - loss: 0.0789 - accuracy: 0.9861 - val_loss: 3.0896 - val_accuracy: 0.6212\n",
            "Epoch 235/300\n",
            "25/25 [==============================] - 2s 86ms/step - loss: 0.0769 - accuracy: 0.9864 - val_loss: 3.0921 - val_accuracy: 0.6215\n",
            "Epoch 236/300\n",
            "25/25 [==============================] - 2s 86ms/step - loss: 0.0749 - accuracy: 0.9870 - val_loss: 3.1099 - val_accuracy: 0.6179\n",
            "Epoch 237/300\n",
            "25/25 [==============================] - 2s 84ms/step - loss: 0.0725 - accuracy: 0.9878 - val_loss: 3.1175 - val_accuracy: 0.6208\n",
            "Epoch 238/300\n",
            "25/25 [==============================] - 2s 85ms/step - loss: 0.0727 - accuracy: 0.9870 - val_loss: 3.1327 - val_accuracy: 0.6196\n",
            "Epoch 239/300\n",
            "25/25 [==============================] - 2s 85ms/step - loss: 0.0719 - accuracy: 0.9875 - val_loss: 3.1303 - val_accuracy: 0.6173\n",
            "Epoch 240/300\n",
            "25/25 [==============================] - 2s 85ms/step - loss: 0.0718 - accuracy: 0.9873 - val_loss: 3.1266 - val_accuracy: 0.6208\n",
            "Epoch 241/300\n",
            "25/25 [==============================] - 2s 86ms/step - loss: 0.0704 - accuracy: 0.9876 - val_loss: 3.1360 - val_accuracy: 0.6199\n",
            "Epoch 242/300\n",
            "25/25 [==============================] - 2s 86ms/step - loss: 0.0707 - accuracy: 0.9872 - val_loss: 3.1360 - val_accuracy: 0.6228\n",
            "Epoch 243/300\n",
            "25/25 [==============================] - 2s 84ms/step - loss: 0.0699 - accuracy: 0.9878 - val_loss: 3.1364 - val_accuracy: 0.6193\n",
            "Epoch 244/300\n",
            "25/25 [==============================] - 2s 85ms/step - loss: 0.0694 - accuracy: 0.9874 - val_loss: 3.1498 - val_accuracy: 0.6187\n",
            "Epoch 245/300\n",
            "25/25 [==============================] - 2s 86ms/step - loss: 0.0679 - accuracy: 0.9878 - val_loss: 3.1486 - val_accuracy: 0.6196\n",
            "Epoch 246/300\n",
            "25/25 [==============================] - 2s 86ms/step - loss: 0.0664 - accuracy: 0.9880 - val_loss: 3.1566 - val_accuracy: 0.6211\n",
            "Epoch 247/300\n",
            "25/25 [==============================] - 2s 86ms/step - loss: 0.0663 - accuracy: 0.9883 - val_loss: 3.1486 - val_accuracy: 0.6179\n",
            "Epoch 248/300\n",
            "25/25 [==============================] - 2s 85ms/step - loss: 0.0661 - accuracy: 0.9881 - val_loss: 3.1503 - val_accuracy: 0.6188\n",
            "Epoch 249/300\n",
            "25/25 [==============================] - 2s 85ms/step - loss: 0.0654 - accuracy: 0.9883 - val_loss: 3.1569 - val_accuracy: 0.6209\n",
            "Epoch 250/300\n",
            "25/25 [==============================] - 2s 86ms/step - loss: 0.0646 - accuracy: 0.9885 - val_loss: 3.1556 - val_accuracy: 0.6220\n",
            "Epoch 251/300\n",
            "25/25 [==============================] - 2s 85ms/step - loss: 0.0661 - accuracy: 0.9876 - val_loss: 3.1456 - val_accuracy: 0.6171\n",
            "Epoch 252/300\n",
            "25/25 [==============================] - 2s 87ms/step - loss: 0.0650 - accuracy: 0.9880 - val_loss: 3.1746 - val_accuracy: 0.6200\n",
            "Epoch 253/300\n",
            "25/25 [==============================] - 2s 86ms/step - loss: 0.0681 - accuracy: 0.9868 - val_loss: 3.1796 - val_accuracy: 0.6222\n",
            "Epoch 254/300\n",
            "25/25 [==============================] - 2s 86ms/step - loss: 0.0673 - accuracy: 0.9873 - val_loss: 3.1419 - val_accuracy: 0.6186\n",
            "Epoch 255/300\n",
            "25/25 [==============================] - 2s 86ms/step - loss: 0.0634 - accuracy: 0.9880 - val_loss: 3.1632 - val_accuracy: 0.6215\n",
            "Epoch 256/300\n",
            "25/25 [==============================] - 2s 86ms/step - loss: 0.0656 - accuracy: 0.9872 - val_loss: 3.1778 - val_accuracy: 0.6176\n",
            "Epoch 257/300\n",
            "25/25 [==============================] - 2s 86ms/step - loss: 0.0646 - accuracy: 0.9879 - val_loss: 3.1498 - val_accuracy: 0.6187\n",
            "Epoch 258/300\n",
            "25/25 [==============================] - 2s 85ms/step - loss: 0.0609 - accuracy: 0.9888 - val_loss: 3.1828 - val_accuracy: 0.6195\n",
            "Epoch 259/300\n",
            "25/25 [==============================] - 2s 86ms/step - loss: 0.0607 - accuracy: 0.9886 - val_loss: 3.1782 - val_accuracy: 0.6205\n",
            "Epoch 260/300\n",
            "25/25 [==============================] - 2s 84ms/step - loss: 0.0592 - accuracy: 0.9891 - val_loss: 3.1784 - val_accuracy: 0.6200\n",
            "Epoch 261/300\n",
            "25/25 [==============================] - 2s 84ms/step - loss: 0.0586 - accuracy: 0.9893 - val_loss: 3.1887 - val_accuracy: 0.6202\n",
            "Epoch 262/300\n",
            "25/25 [==============================] - 2s 84ms/step - loss: 0.0580 - accuracy: 0.9890 - val_loss: 3.1849 - val_accuracy: 0.6196\n",
            "Epoch 263/300\n",
            "25/25 [==============================] - 2s 86ms/step - loss: 0.0566 - accuracy: 0.9894 - val_loss: 3.1840 - val_accuracy: 0.6196\n",
            "Epoch 264/300\n",
            "25/25 [==============================] - 2s 85ms/step - loss: 0.0591 - accuracy: 0.9887 - val_loss: 3.1639 - val_accuracy: 0.6194\n",
            "Epoch 265/300\n",
            "25/25 [==============================] - 2s 85ms/step - loss: 0.0584 - accuracy: 0.9887 - val_loss: 3.1720 - val_accuracy: 0.6183\n",
            "Epoch 266/300\n",
            "25/25 [==============================] - 2s 85ms/step - loss: 0.0562 - accuracy: 0.9895 - val_loss: 3.2016 - val_accuracy: 0.6210\n",
            "Epoch 267/300\n",
            "25/25 [==============================] - 2s 85ms/step - loss: 0.0557 - accuracy: 0.9895 - val_loss: 3.2022 - val_accuracy: 0.6200\n",
            "Epoch 268/300\n",
            "25/25 [==============================] - 2s 85ms/step - loss: 0.0554 - accuracy: 0.9891 - val_loss: 3.2119 - val_accuracy: 0.6219\n",
            "Epoch 269/300\n",
            "25/25 [==============================] - 2s 85ms/step - loss: 0.0544 - accuracy: 0.9896 - val_loss: 3.1989 - val_accuracy: 0.6198\n",
            "Epoch 270/300\n",
            "25/25 [==============================] - 2s 85ms/step - loss: 0.0553 - accuracy: 0.9894 - val_loss: 3.2045 - val_accuracy: 0.6229\n",
            "Epoch 271/300\n",
            "25/25 [==============================] - 2s 85ms/step - loss: 0.0555 - accuracy: 0.9892 - val_loss: 3.2071 - val_accuracy: 0.6203\n",
            "Epoch 272/300\n",
            "25/25 [==============================] - 2s 85ms/step - loss: 0.0544 - accuracy: 0.9891 - val_loss: 3.2129 - val_accuracy: 0.6203\n",
            "Epoch 273/300\n",
            "25/25 [==============================] - 2s 85ms/step - loss: 0.0543 - accuracy: 0.9895 - val_loss: 3.2064 - val_accuracy: 0.6195\n",
            "Epoch 274/300\n",
            "25/25 [==============================] - 2s 86ms/step - loss: 0.0535 - accuracy: 0.9895 - val_loss: 3.2175 - val_accuracy: 0.6222\n",
            "Epoch 275/300\n",
            "25/25 [==============================] - 2s 85ms/step - loss: 0.0530 - accuracy: 0.9896 - val_loss: 3.2445 - val_accuracy: 0.6227\n",
            "Epoch 276/300\n",
            "25/25 [==============================] - 2s 86ms/step - loss: 0.0538 - accuracy: 0.9894 - val_loss: 3.2224 - val_accuracy: 0.6240\n",
            "Epoch 277/300\n",
            "25/25 [==============================] - 2s 86ms/step - loss: 0.0526 - accuracy: 0.9898 - val_loss: 3.2383 - val_accuracy: 0.6241\n",
            "Epoch 278/300\n",
            "25/25 [==============================] - 2s 86ms/step - loss: 0.0514 - accuracy: 0.9899 - val_loss: 3.2400 - val_accuracy: 0.6196\n",
            "Epoch 279/300\n",
            "25/25 [==============================] - 2s 85ms/step - loss: 0.0513 - accuracy: 0.9900 - val_loss: 3.2420 - val_accuracy: 0.6198\n",
            "Epoch 280/300\n",
            "25/25 [==============================] - 2s 87ms/step - loss: 0.0529 - accuracy: 0.9893 - val_loss: 3.2209 - val_accuracy: 0.6203\n",
            "Epoch 281/300\n",
            "25/25 [==============================] - 2s 86ms/step - loss: 0.0530 - accuracy: 0.9895 - val_loss: 3.2537 - val_accuracy: 0.6212\n",
            "Epoch 282/300\n",
            "25/25 [==============================] - 2s 85ms/step - loss: 0.0569 - accuracy: 0.9881 - val_loss: 3.2316 - val_accuracy: 0.6178\n",
            "Epoch 283/300\n",
            "25/25 [==============================] - 2s 86ms/step - loss: 0.0556 - accuracy: 0.9883 - val_loss: 3.2309 - val_accuracy: 0.6205\n",
            "Epoch 284/300\n",
            "25/25 [==============================] - 2s 86ms/step - loss: 0.0516 - accuracy: 0.9898 - val_loss: 3.2276 - val_accuracy: 0.6221\n",
            "Epoch 285/300\n",
            "25/25 [==============================] - 2s 86ms/step - loss: 0.0510 - accuracy: 0.9895 - val_loss: 3.2658 - val_accuracy: 0.6186\n",
            "Epoch 286/300\n",
            "25/25 [==============================] - 2s 86ms/step - loss: 0.0522 - accuracy: 0.9895 - val_loss: 3.2377 - val_accuracy: 0.6230\n",
            "Epoch 287/300\n",
            "25/25 [==============================] - 2s 87ms/step - loss: 0.0498 - accuracy: 0.9897 - val_loss: 3.2534 - val_accuracy: 0.6227\n",
            "Epoch 288/300\n",
            "25/25 [==============================] - 2s 85ms/step - loss: 0.0485 - accuracy: 0.9900 - val_loss: 3.2523 - val_accuracy: 0.6207\n",
            "Epoch 289/300\n",
            "25/25 [==============================] - 2s 86ms/step - loss: 0.0523 - accuracy: 0.9890 - val_loss: 3.2491 - val_accuracy: 0.6202\n",
            "Epoch 290/300\n",
            "25/25 [==============================] - 2s 86ms/step - loss: 0.0505 - accuracy: 0.9897 - val_loss: 3.2540 - val_accuracy: 0.6164\n",
            "Epoch 291/300\n",
            "25/25 [==============================] - 2s 86ms/step - loss: 0.0532 - accuracy: 0.9888 - val_loss: 3.2533 - val_accuracy: 0.6180\n",
            "Epoch 292/300\n",
            "25/25 [==============================] - 2s 86ms/step - loss: 0.0499 - accuracy: 0.9897 - val_loss: 3.2554 - val_accuracy: 0.6204\n",
            "Epoch 293/300\n",
            "25/25 [==============================] - 2s 87ms/step - loss: 0.0485 - accuracy: 0.9899 - val_loss: 3.2481 - val_accuracy: 0.6229\n",
            "Epoch 294/300\n",
            "25/25 [==============================] - 2s 86ms/step - loss: 0.0479 - accuracy: 0.9901 - val_loss: 3.2683 - val_accuracy: 0.6174\n",
            "Epoch 295/300\n",
            "25/25 [==============================] - 2s 86ms/step - loss: 0.0469 - accuracy: 0.9902 - val_loss: 3.2590 - val_accuracy: 0.6204\n",
            "Epoch 296/300\n",
            "25/25 [==============================] - 2s 86ms/step - loss: 0.0454 - accuracy: 0.9905 - val_loss: 3.2635 - val_accuracy: 0.6217\n",
            "Epoch 297/300\n",
            "25/25 [==============================] - 2s 86ms/step - loss: 0.0458 - accuracy: 0.9901 - val_loss: 3.2603 - val_accuracy: 0.6213\n",
            "Epoch 298/300\n",
            "25/25 [==============================] - 2s 85ms/step - loss: 0.0456 - accuracy: 0.9905 - val_loss: 3.2658 - val_accuracy: 0.6227\n",
            "Epoch 299/300\n",
            "25/25 [==============================] - 2s 84ms/step - loss: 0.0454 - accuracy: 0.9903 - val_loss: 3.2707 - val_accuracy: 0.6232\n",
            "Epoch 300/300\n",
            "25/25 [==============================] - 2s 84ms/step - loss: 0.0456 - accuracy: 0.9904 - val_loss: 3.2661 - val_accuracy: 0.6212\n"
          ],
          "name": "stdout"
        }
      ]
    },
    {
      "cell_type": "code",
      "metadata": {
        "colab": {
          "base_uri": "https://localhost:8080/",
          "height": 265
        },
        "id": "D2eWMe5vdeyM",
        "outputId": "800d819f-939c-48b0-9042-96fac95b0665"
      },
      "source": [
        "# plot some data\n",
        "plt.plot(r.history['loss'], label='loss')\n",
        "plt.plot(r.history['val_loss'], label='val_loss')\n",
        "plt.legend()\n",
        "plt.show()"
      ],
      "execution_count": 52,
      "outputs": [
        {
          "output_type": "display_data",
          "data": {
            "image/png": "[encoded data removed]",
            "text/plain": [
              "<Figure size 432x288 with 1 Axes>"
            ]
          },
          "metadata": {
            "tags": [],
            "needs_background": "light"
          }
        }
      ]
    },
    {
      "cell_type": "code",
      "metadata": {
        "colab": {
          "base_uri": "https://localhost:8080/",
          "height": 265
        },
        "id": "5YkUfUewrq6Z",
        "outputId": "7657d2ae-a875-4eee-b478-4f3ff6a28cef"
      },
      "source": [
        "# accuracies\n",
        "plt.plot(r.history['accuracy'], label='acc')\n",
        "plt.plot(r.history['val_accuracy'], label='val_acc')\n",
        "\n",
        "plt.legend()\n",
        "plt.show()"
      ],
      "execution_count": 53,
      "outputs": [
        {
          "output_type": "display_data",
          "data": {
            "image/png": "[encoded data removed]",
            "text/plain": [
              "<Figure size 432x288 with 1 Axes>"
            ]
          },
          "metadata": {
            "tags": [],
            "needs_background": "light"
          }
        }
      ]
    },
    {
      "cell_type": "code",
      "metadata": {
        "id": "c4dwe_oVrtv6"
      },
      "source": [
        "encoder_model = Model(encoder_inputs_placeholder, encoder_outputs)\n",
        "\n",
        "# next we define a T=1 decoder model\n",
        "encoder_outputs_as_input = Input(shape=(max_len_input, LATENT_DIM * 2,))\n",
        "decoder_inputs_single = Input(shape=(1,))\n",
        "decoder_inputs_single_x = decoder_embedding(decoder_inputs_single)\n",
        "\n",
        "# no need to loop over attention steps this time because there is only one step\n",
        "context = one_step_attention(encoder_outputs_as_input, initial_s)\n",
        "\n",
        "# combine context with last word\n",
        "decoder_lstm_input = context_last_word_concat_layer([context, decoder_inputs_single_x])\n",
        "\n",
        "# lstm and final dense\n",
        "o, s, c = decoder_lstm(decoder_lstm_input, initial_state=[initial_s, initial_c])\n",
        "decoder_outputs = decoder_dense(o)"
      ],
      "execution_count": 54,
      "outputs": []
    },
    {
      "cell_type": "code",
      "metadata": {
        "id": "s76XMEGSr1rr"
      },
      "source": [
        "# create the model object\n",
        "decoder_model = Model(\n",
        "  inputs=[\n",
        "    decoder_inputs_single,\n",
        "    encoder_outputs_as_input,\n",
        "    initial_s, \n",
        "    initial_c\n",
        "  ],\n",
        "  outputs=[decoder_outputs, s, c]\n",
        ")\n"
      ],
      "execution_count": 55,
      "outputs": []
    },
    {
      "cell_type": "code",
      "metadata": {
        "id": "pFfRs4uJr35o"
      },
      "source": [
        "decoder_model.save(\"enfr_decoder_model.h5\")\n",
        "encoder_model.save(\"enfr_encoder_model.h5\")"
      ],
      "execution_count": 56,
      "outputs": []
    },
    {
      "cell_type": "code",
      "metadata": {
        "id": "KdjyGqfir58n"
      },
      "source": [
        "idx2word_eng = {v:k for k, v in word2idx_inputs.items()}\n",
        "idx2word_trans = {v:k for k, v in word2idx_outputs.items()}"
      ],
      "execution_count": 57,
      "outputs": []
    },
    {
      "cell_type": "code",
      "metadata": {
        "id": "pzf1i36Dr9ls"
      },
      "source": [
        "import pickle\n",
        "pickle.dump( idx2word_eng, open( \"idx2word_eng1.pkl\", \"wb\" ) )\n",
        "pickle.dump(idx2word_trans,open(\"idx2word_fr.pkl\",\"wb\"))\n",
        "pickle.dump(tokenizer_inputs,open(\"tokenizer_inputs.pkl\",\"wb\"))"
      ],
      "execution_count": 58,
      "outputs": []
    },
    {
      "cell_type": "code",
      "metadata": {
        "id": "SGSW2vRrsAIf"
      },
      "source": [
        "def decode_sequence(input_seq):\n",
        "    # Encode the input as state vectors.\n",
        "    enc_out = encoder_model.predict(input_seq)\n",
        "\n",
        "    # Generate empty target sequence of length 1.\n",
        "    target_seq = np.zeros((1, 1))\n",
        "\n",
        "    # Populate the first character of target sequence with the start character.\n",
        "    # NOTE: tokenizer lower-cases all words\n",
        "    target_seq[0, 0] = word2idx_outputs['<sos>']\n",
        "\n",
        "    # if we get this we break\n",
        "    eos = word2idx_outputs['<eos>']\n",
        "\n",
        "\n",
        "    # [s, c] will be updated in each loop iteration\n",
        "    s = np.zeros((1, LATENT_DIM_DECODER))\n",
        "    c = np.zeros((1, LATENT_DIM_DECODER))\n",
        "\n",
        "\n",
        "    # Create the translation\n",
        "    output_sentence = []\n",
        "    for _ in range(max_len_target):\n",
        "        o, s, c = decoder_model.predict([target_seq, enc_out, s, c])\n",
        "            \n",
        "\n",
        "        # Get next word\n",
        "        idx = np.argmax(o.flatten())\n",
        "\n",
        "        # End sentence of EOS\n",
        "        if eos == idx:\n",
        "            break\n",
        "\n",
        "        word = ''\n",
        "        if idx > 0:\n",
        "            word = idx2word_trans[idx]\n",
        "            output_sentence.append(word)\n",
        "\n",
        "        # Update the decoder input\n",
        "        # which is just the word just generated\n",
        "        target_seq[0, 0] = idx\n",
        "\n",
        "    return ' '.join(output_sentence)"
      ],
      "execution_count": 59,
      "outputs": []
    },
    {
      "cell_type": "code",
      "metadata": {
        "id": "CGwADyZ8sRso",
        "colab": {
          "base_uri": "https://localhost:8080/"
        },
        "outputId": "fed63ad0-890d-4755-f110-69374b058bf9"
      },
      "source": [
        "test_actual_sentence=[]\n",
        "test_predicted_sentence=[]\n",
        "for i in range(len(fr_test)-9000):\n",
        "    # Do some test translations\n",
        "    if i%10==0:\n",
        "        print(i)\n",
        "    input_seq = encoder_inputs_test[i:i+1]\n",
        "    translation = decode_sequence(input_seq)\n",
        "\n",
        "    test_actual_sentence.append(target_texts_test[i])\n",
        "    test_predicted_sentence.append(translation)"
      ],
      "execution_count": 60,
      "outputs": [
        {
          "output_type": "stream",
          "text": [
            "0\n",
            "10\n",
            "20\n",
            "30\n",
            "40\n",
            "50\n",
            "60\n",
            "70\n",
            "80\n",
            "90\n",
            "100\n",
            "110\n",
            "120\n",
            "130\n",
            "140\n",
            "150\n",
            "160\n",
            "170\n",
            "180\n",
            "190\n",
            "200\n",
            "210\n",
            "220\n",
            "230\n",
            "240\n",
            "250\n",
            "260\n",
            "270\n",
            "280\n",
            "290\n",
            "300\n",
            "310\n",
            "320\n",
            "330\n",
            "340\n",
            "350\n",
            "360\n",
            "370\n",
            "380\n",
            "390\n",
            "400\n",
            "410\n",
            "420\n",
            "430\n",
            "440\n",
            "450\n",
            "460\n",
            "470\n",
            "480\n",
            "490\n",
            "500\n",
            "510\n",
            "520\n",
            "530\n",
            "540\n",
            "550\n",
            "560\n",
            "570\n",
            "580\n",
            "590\n",
            "600\n",
            "610\n",
            "620\n",
            "630\n",
            "640\n",
            "650\n",
            "660\n",
            "670\n",
            "680\n",
            "690\n",
            "700\n",
            "710\n",
            "720\n",
            "730\n",
            "740\n",
            "750\n",
            "760\n",
            "770\n",
            "780\n",
            "790\n",
            "800\n",
            "810\n",
            "820\n",
            "830\n",
            "840\n",
            "850\n",
            "860\n",
            "870\n",
            "880\n",
            "890\n",
            "900\n",
            "910\n",
            "920\n",
            "930\n",
            "940\n",
            "950\n",
            "960\n",
            "970\n",
            "980\n",
            "990\n",
            "1000\n",
            "1010\n",
            "1020\n",
            "1030\n",
            "1040\n",
            "1050\n",
            "1060\n",
            "1070\n",
            "1080\n",
            "1090\n",
            "1100\n",
            "1110\n",
            "1120\n",
            "1130\n",
            "1140\n",
            "1150\n",
            "1160\n",
            "1170\n",
            "1180\n",
            "1190\n",
            "1200\n",
            "1210\n",
            "1220\n",
            "1230\n",
            "1240\n",
            "1250\n",
            "1260\n",
            "1270\n",
            "1280\n",
            "1290\n",
            "1300\n",
            "1310\n",
            "1320\n",
            "1330\n",
            "1340\n",
            "1350\n",
            "1360\n",
            "1370\n",
            "1380\n",
            "1390\n",
            "1400\n",
            "1410\n",
            "1420\n",
            "1430\n",
            "1440\n",
            "1450\n",
            "1460\n",
            "1470\n",
            "1480\n",
            "1490\n",
            "1500\n",
            "1510\n",
            "1520\n",
            "1530\n",
            "1540\n",
            "1550\n",
            "1560\n",
            "1570\n",
            "1580\n",
            "1590\n",
            "1600\n",
            "1610\n",
            "1620\n",
            "1630\n",
            "1640\n",
            "1650\n",
            "1660\n",
            "1670\n",
            "1680\n",
            "1690\n",
            "1700\n",
            "1710\n",
            "1720\n",
            "1730\n",
            "1740\n",
            "1750\n",
            "1760\n",
            "1770\n",
            "1780\n",
            "1790\n",
            "1800\n",
            "1810\n",
            "1820\n",
            "1830\n",
            "1840\n",
            "1850\n",
            "1860\n",
            "1870\n",
            "1880\n",
            "1890\n",
            "1900\n",
            "1910\n",
            "1920\n",
            "1930\n",
            "1940\n",
            "1950\n",
            "1960\n",
            "1970\n",
            "1980\n",
            "1990\n",
            "2000\n",
            "2010\n",
            "2020\n",
            "2030\n",
            "2040\n",
            "2050\n",
            "2060\n",
            "2070\n",
            "2080\n",
            "2090\n",
            "2100\n",
            "2110\n",
            "2120\n",
            "2130\n",
            "2140\n",
            "2150\n",
            "2160\n",
            "2170\n",
            "2180\n",
            "2190\n",
            "2200\n",
            "2210\n",
            "2220\n",
            "2230\n",
            "2240\n",
            "2250\n",
            "2260\n",
            "2270\n",
            "2280\n",
            "2290\n",
            "2300\n",
            "2310\n",
            "2320\n",
            "2330\n",
            "2340\n",
            "2350\n",
            "2360\n",
            "2370\n",
            "2380\n",
            "2390\n",
            "2400\n",
            "2410\n",
            "2420\n",
            "2430\n",
            "2440\n",
            "2450\n",
            "2460\n",
            "2470\n",
            "2480\n",
            "2490\n",
            "2500\n",
            "2510\n",
            "2520\n",
            "2530\n",
            "2540\n",
            "2550\n",
            "2560\n",
            "2570\n",
            "2580\n",
            "2590\n",
            "2600\n",
            "2610\n",
            "2620\n",
            "2630\n",
            "2640\n",
            "2650\n",
            "2660\n",
            "2670\n",
            "2680\n",
            "2690\n",
            "2700\n",
            "2710\n",
            "2720\n",
            "2730\n",
            "2740\n",
            "2750\n",
            "2760\n",
            "2770\n",
            "2780\n",
            "2790\n",
            "2800\n",
            "2810\n",
            "2820\n",
            "2830\n",
            "2840\n",
            "2850\n",
            "2860\n",
            "2870\n",
            "2880\n",
            "2890\n",
            "2900\n",
            "2910\n",
            "2920\n",
            "2930\n",
            "2940\n",
            "2950\n",
            "2960\n",
            "2970\n",
            "2980\n",
            "2990\n",
            "3000\n",
            "3010\n",
            "3020\n",
            "3030\n",
            "3040\n",
            "3050\n",
            "3060\n",
            "3070\n",
            "3080\n",
            "3090\n",
            "3100\n",
            "3110\n",
            "3120\n",
            "3130\n",
            "3140\n",
            "3150\n",
            "3160\n",
            "3170\n",
            "3180\n",
            "3190\n",
            "3200\n",
            "3210\n",
            "3220\n",
            "3230\n",
            "3240\n",
            "3250\n",
            "3260\n",
            "3270\n",
            "3280\n",
            "3290\n",
            "3300\n",
            "3310\n",
            "3320\n",
            "3330\n",
            "3340\n",
            "3350\n",
            "3360\n",
            "3370\n",
            "3380\n",
            "3390\n",
            "3400\n",
            "3410\n",
            "3420\n",
            "3430\n",
            "3440\n",
            "3450\n",
            "3460\n",
            "3470\n",
            "3480\n",
            "3490\n",
            "3500\n",
            "3510\n",
            "3520\n",
            "3530\n",
            "3540\n",
            "3550\n",
            "3560\n",
            "3570\n",
            "3580\n",
            "3590\n",
            "3600\n",
            "3610\n",
            "3620\n",
            "3630\n",
            "3640\n",
            "3650\n",
            "3660\n",
            "3670\n",
            "3680\n",
            "3690\n",
            "3700\n",
            "3710\n",
            "3720\n",
            "3730\n",
            "3740\n",
            "3750\n",
            "3760\n",
            "3770\n",
            "3780\n",
            "3790\n",
            "3800\n",
            "3810\n",
            "3820\n",
            "3830\n",
            "3840\n",
            "3850\n",
            "3860\n",
            "3870\n",
            "3880\n",
            "3890\n",
            "3900\n",
            "3910\n",
            "3920\n",
            "3930\n",
            "3940\n",
            "3950\n",
            "3960\n",
            "3970\n",
            "3980\n",
            "3990\n",
            "4000\n",
            "4010\n",
            "4020\n",
            "4030\n",
            "4040\n",
            "4050\n",
            "4060\n",
            "4070\n",
            "4080\n",
            "4090\n",
            "4100\n",
            "4110\n",
            "4120\n",
            "4130\n",
            "4140\n",
            "4150\n",
            "4160\n",
            "4170\n",
            "4180\n",
            "4190\n",
            "4200\n",
            "4210\n",
            "4220\n",
            "4230\n",
            "4240\n",
            "4250\n",
            "4260\n",
            "4270\n",
            "4280\n",
            "4290\n",
            "4300\n",
            "4310\n",
            "4320\n",
            "4330\n",
            "4340\n",
            "4350\n",
            "4360\n",
            "4370\n",
            "4380\n",
            "4390\n",
            "4400\n",
            "4410\n",
            "4420\n",
            "4430\n",
            "4440\n",
            "4450\n",
            "4460\n",
            "4470\n",
            "4480\n",
            "4490\n",
            "4500\n",
            "4510\n",
            "4520\n",
            "4530\n",
            "4540\n",
            "4550\n",
            "4560\n",
            "4570\n",
            "4580\n",
            "4590\n",
            "4600\n",
            "4610\n",
            "4620\n",
            "4630\n",
            "4640\n",
            "4650\n",
            "4660\n",
            "4670\n",
            "4680\n",
            "4690\n",
            "4700\n",
            "4710\n",
            "4720\n",
            "4730\n",
            "4740\n",
            "4750\n",
            "4760\n",
            "4770\n",
            "4780\n",
            "4790\n",
            "4800\n",
            "4810\n",
            "4820\n",
            "4830\n",
            "4840\n",
            "4850\n",
            "4860\n",
            "4870\n",
            "4880\n",
            "4890\n",
            "4900\n",
            "4910\n",
            "4920\n",
            "4930\n",
            "4940\n",
            "4950\n",
            "4960\n",
            "4970\n",
            "4980\n",
            "4990\n"
          ],
          "name": "stdout"
        }
      ]
    },
    {
      "cell_type": "code",
      "metadata": {
        "colab": {
          "base_uri": "https://localhost:8080/"
        },
        "id": "rlLYfiorsV3b",
        "outputId": "19db2540-e464-4139-e0d9-773d9427e8c1"
      },
      "source": [
        "for i in np.random.randint(0,5000,5):\n",
        "    print('-')\n",
        "    print('Input sentence:', input_texts_test[i])\n",
        "    print('Predicted translation:', test_predicted_sentence[i])\n",
        "    print('Actual translation:', target_texts_test[i])"
      ],
      "execution_count": 61,
      "outputs": [
        {
          "output_type": "stream",
          "text": [
            "-\n",
            "Input sentence: prenons un bus\n",
            "Predicted translation: lets away the food\n",
            "Actual translation: lets take a bus <eos>\n",
            "-\n",
            "Input sentence: cest un dictionnaire\n",
            "Predicted translation: this is a dictionary\n",
            "Actual translation: its a dictionary <eos>\n",
            "-\n",
            "Input sentence: il a nourri le cheval\n",
            "Predicted translation: he went the job\n",
            "Actual translation: he fed the horse <eos>\n",
            "-\n",
            "Input sentence: tout le monde le vit\n",
            "Predicted translation: everybody saw it\n",
            "Actual translation: everyone saw it <eos>\n",
            "-\n",
            "Input sentence: il va bien\n",
            "Predicted translation: its well right\n",
            "Actual translation: he is doing well <eos>\n"
          ],
          "name": "stdout"
        }
      ]
    },
    {
      "cell_type": "code",
      "metadata": {
        "id": "MLsX7gcRsbpb"
      },
      "source": [
        "import nltk\n",
        "pred=[]\n",
        "for words in test_predicted_sentence:\n",
        "    pred.append(words.split())"
      ],
      "execution_count": 62,
      "outputs": []
    },
    {
      "cell_type": "code",
      "metadata": {
        "id": "90JceqTD5E5T"
      },
      "source": [
        "actual=[]\n",
        "for words in test_actual_sentence:\n",
        "    actual.append(words.split())"
      ],
      "execution_count": 63,
      "outputs": []
    },
    {
      "cell_type": "code",
      "metadata": {
        "colab": {
          "base_uri": "https://localhost:8080/"
        },
        "id": "ujKMa1_c5HLj",
        "outputId": "dec172ca-f625-4d0b-d8f3-20d65fd10a75"
      },
      "source": [
        "from nltk.translate.bleu_score import SmoothingFunction\n",
        "chencherry = SmoothingFunction()\n",
        "BLEUscore = nltk.translate.bleu_score.corpus_bleu(actual,pred,smoothing_function=chencherry.method4)\n",
        "print(BLEUscore)"
      ],
      "execution_count": 64,
      "outputs": [
        {
          "output_type": "stream",
          "text": [
            "0.15882657358816163\n"
          ],
          "name": "stdout"
        }
      ]
    },
    {
      "cell_type": "code",
      "metadata": {
        "colab": {
          "base_uri": "https://localhost:8080/"
        },
        "id": "CXz3XNE85JGA",
        "outputId": "e30ccc6a-60e2-4543-b864-7f4e882ce021"
      },
      "source": [
        "!pip install sacrebleu"
      ],
      "execution_count": 65,
      "outputs": [
        {
          "output_type": "stream",
          "text": [
            "Collecting sacrebleu\n",
            "\u001b[?25l  Downloading https://files.pythonhosted.org/packages/7e/57/0c7ca4e31a126189dab99c19951910bd081dea5bbd25f24b77107750eae7/sacrebleu-1.5.1-py3-none-any.whl (54kB)\n",
            "\r\u001b[K     |██████                          | 10kB 19.3MB/s eta 0:00:01\r\u001b[K     |████████████                    | 20kB 26.3MB/s eta 0:00:01\r\u001b[K     |██████████████████              | 30kB 28.6MB/s eta 0:00:01\r\u001b[K     |████████████████████████        | 40kB 21.2MB/s eta 0:00:01\r\u001b[K     |██████████████████████████████  | 51kB 16.6MB/s eta 0:00:01\r\u001b[K     |████████████████████████████████| 61kB 5.9MB/s \n",
            "\u001b[?25hCollecting portalocker==2.0.0\n",
            "  Downloading https://files.pythonhosted.org/packages/89/a6/3814b7107e0788040870e8825eebf214d72166adf656ba7d4bf14759a06a/portalocker-2.0.0-py2.py3-none-any.whl\n",
            "Installing collected packages: portalocker, sacrebleu\n",
            "Successfully installed portalocker-2.0.0 sacrebleu-1.5.1\n"
          ],
          "name": "stdout"
        }
      ]
    },
    {
      "cell_type": "code",
      "metadata": {
        "colab": {
          "base_uri": "https://localhost:8080/"
        },
        "id": "KF4Y79ob5Mpp",
        "outputId": "87e73e4b-8dda-4391-dede-47ef8703f111"
      },
      "source": [
        "import sacrebleu\n",
        "x=sacrebleu.raw_corpus_bleu(test_predicted_sentence,[test_actual_sentence])\n",
        "print(x)"
      ],
      "execution_count": 71,
      "outputs": [
        {
          "output_type": "stream",
          "text": [
            "BLEU = 15.58 49.8/25.5/14.0/8.5 (BP = 0.791 ratio = 0.810 hyp_len = 21204 ref_len = 26164)\n"
          ],
          "name": "stdout"
        }
      ]
    },
    {
      "cell_type": "code",
      "metadata": {
        "colab": {
          "base_uri": "https://localhost:8080/"
        },
        "id": "hHnLpAdI5cSm",
        "outputId": "e403c4f5-c339-48b5-8602-c20d9b8bdf00"
      },
      "source": [
        "print(model)"
      ],
      "execution_count": 70,
      "outputs": [
        {
          "output_type": "stream",
          "text": [
            "<tensorflow.python.keras.engine.functional.Functional object at 0x7fde00671050>\n"
          ],
          "name": "stdout"
        }
      ]
    },
    {
      "cell_type": "code",
      "metadata": {
        "colab": {
          "base_uri": "https://localhost:8080/",
          "height": 312
        },
        "id": "97lbVtVK6_xB",
        "outputId": "a0b98745-a625-44ac-eaea-c020423aec2e"
      },
      "source": [
        "from keras.utils.vis_utils import plot_model\n",
        "plot_model(encoder_model,to_file=\"decoder_model.png\",show_shapes = True, show_layer_names = True )"
      ],
      "execution_count": 72,
      "outputs": [
        {
          "output_type": "execute_result",
          "data": {
            "image/png": "[encoded data removed]",
            "text/plain": [
              "<IPython.core.display.Image object>"
            ]
          },
          "metadata": {
            "tags": []
          },
          "execution_count": 72
        }
      ]
    },
    {
      "cell_type": "code",
      "metadata": {
        "id": "GJgXAn3D7lXs",
        "colab": {
          "base_uri": "https://localhost:8080/"
        },
        "outputId": "54b5f1e3-cdd4-4897-9814-c072f383530d"
      },
      "source": [
        ""
      ],
      "execution_count": 1,
      "outputs": [
        {
          "output_type": "stream",
          "text": [
            "Initialized empty Git repository in /content/.git/\n"
          ],
          "name": "stdout"
        }
      ]
    },
    {
      "cell_type": "code",
      "metadata": {
        "id": "yBI0_q1dVZ--"
      },
      "source": [
        ""
      ],
      "execution_count": 4,
      "outputs": []
    },
    {
      "cell_type": "code",
      "metadata": {
        "id": "C-IWmq2VGDZu"
      },
      "source": [
        "!git add -A"
      ],
      "execution_count": 3,
      "outputs": []
    },
    {
      "cell_type": "code",
      "metadata": {
        "colab": {
          "base_uri": "https://localhost:8080/"
        },
        "id": "jmrmD6NBGJF4",
        "outputId": "efc920a5-f0ad-4222-cb7d-d71a404b8009"
      },
      "source": [
        "!git commit -m “first commit”"
      ],
      "execution_count": 4,
      "outputs": [
        {
          "output_type": "stream",
          "text": [
            "error: pathspec 'commit”' did not match any file(s) known to git.\n"
          ],
          "name": "stdout"
        }
      ]
    },
    {
      "cell_type": "code",
      "metadata": {
        "id": "8qLodcF1GNOO"
      },
      "source": [
        ""
      ],
      "execution_count": null,
      "outputs": []
    }
  ]
}